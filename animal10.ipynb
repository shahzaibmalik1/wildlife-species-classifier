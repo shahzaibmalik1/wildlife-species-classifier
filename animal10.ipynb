{
  "nbformat": 4,
  "nbformat_minor": 0,
  "metadata": {
    "colab": {
      "provenance": [],
      "collapsed_sections": [
        "G8plTw0-7gfp",
        "rQfhsRgWSGTV",
        "xPFLuRCe4c_a",
        "cxm0Nvkl9jUc",
        "68cMbC0l4rDC",
        "uuvygX5mSbxd",
        "hE1l-YW8M_q0"
      ]
    },
    "kernelspec": {
      "name": "python3",
      "display_name": "Python 3"
    },
    "language_info": {
      "name": "python"
    },
    "accelerator": "GPU",
    "gpuClass": "standard"
  },
  "cells": [
    {
      "cell_type": "markdown",
      "source": [
        "# Import the libraries"
      ],
      "metadata": {
        "id": "G8plTw0-7gfp"
      }
    },
    {
      "cell_type": "code",
      "execution_count": null,
      "metadata": {
        "id": "jLrn6NbZQ-zD"
      },
      "outputs": [],
      "source": [
        "import numpy as np\n",
        "import pandas as pd\n",
        "from sklearn import preprocessing\n",
        "from sklearn.model_selection import train_test_split\n",
        "from sklearn.metrics import confusion_matrix\n",
        "import matplotlib.pyplot as plt\n",
        "from matplotlib.pyplot import figure\n",
        "import os\n",
        "import cv2 \n",
        "from google.colab.patches import cv2_imshow\n",
        "from PIL import Image\n",
        "import sys\n",
        "import math\n",
        "import random\n",
        "from skimage.transform import rotate, AffineTransform\n",
        "from skimage.util import random_noise\n",
        "\n",
        "from sklearn.metrics import classification_report\n",
        "from sklearn.metrics import accuracy_score\n",
        "\n",
        "import torch\n",
        "import torchvision\n",
        "import torchvision.transforms as transforms\n",
        "from torch.utils.data import DataLoader\n",
        "\n",
        "from torch.utils.data import TensorDataset, ConcatDataset\n",
        "import random\n",
        "from torchvision import datasets\n",
        "import torch.nn as nn\n",
        "import torch.optim as optim"
      ]
    },
    {
      "cell_type": "code",
      "source": [
        "from google.colab import drive\n",
        "drive.mount('/content/drive')"
      ],
      "metadata": {
        "id": "8nCBRoTYdle1",
        "outputId": "4788ceac-fdef-404d-9aee-9fd1edf8a844",
        "colab": {
          "base_uri": "https://localhost:8080/"
        }
      },
      "execution_count": null,
      "outputs": [
        {
          "output_type": "stream",
          "name": "stdout",
          "text": [
            "Mounted at /content/drive\n"
          ]
        }
      ]
    },
    {
      "cell_type": "markdown",
      "source": [
        "# Data Preparation"
      ],
      "metadata": {
        "id": "rQfhsRgWSGTV"
      }
    },
    {
      "cell_type": "code",
      "source": [
        "# this cell is regarding the aumentation and normalization with the stats of data\n",
        "transform = transforms.Compose([\n",
        "    transforms.Resize((224, 224)),\n",
        "    transforms.RandomRotation(degrees=45),\n",
        "    transforms.RandomHorizontalFlip(p=0.5),\n",
        "    transforms.RandomVerticalFlip(p=0.5),\n",
        "    transforms.GaussianBlur(kernel_size=3, sigma=(0.1, 2)),\n",
        "    transforms.RandomAffine(degrees=0, translate=(0.15, 0.15)),\n",
        "    # transforms.RandomResizedCrop(size=(224, 224), scale=(0.5, 1.0)),\n",
        "    transforms.ToTensor(),\n",
        "    transforms.Normalize(mean=[0.485, 0.456, 0.406], std=[0.229, 0.224, 0.225])\n",
        "])"
      ],
      "metadata": {
        "id": "mqLVM51c5mdW"
      },
      "execution_count": null,
      "outputs": []
    },
    {
      "cell_type": "code",
      "source": [
        "dataset = datasets.ImageFolder(\"/content/drive/MyDrive/projectDataset/animal10/raw-img\", transform= transform)"
      ],
      "metadata": {
        "id": "5MCbeOax5uyf"
      },
      "execution_count": null,
      "outputs": []
    },
    {
      "cell_type": "code",
      "source": [
        "# this cell is spliting dataset to train and test\n",
        "import torch\n",
        "from torch.utils.data import DataLoader, SubsetRandomSampler\n",
        "test_split = 0.2\n",
        "dataset_size = len(dataset)\n",
        "test_size = int(test_split * dataset_size)\n",
        "train_size = dataset_size - test_size\n",
        "train_dataset, test_dataset = torch.utils.data.random_split(dataset, [train_size, test_size])"
      ],
      "metadata": {
        "id": "5S7GXKrM8EH-"
      },
      "execution_count": null,
      "outputs": []
    },
    {
      "cell_type": "code",
      "source": [
        "if torch.cuda.is_available():    \n",
        "  # Tell PyTorch to use the GPU.    \n",
        "  print(torch.device(\"cuda\"))\n",
        "  print('There are %d GPU(s) available.' % torch.cuda.device_count())\n",
        "  print('We will use the GPU:', torch.cuda.get_device_name(0))\n",
        "  # If not...\n",
        "else:\n",
        "  print('No GPU available, using the CPU instead.')\n",
        "  print(torch.device(\"cpu\"))"
      ],
      "metadata": {
        "id": "nnSyVlAh67TX",
        "colab": {
          "base_uri": "https://localhost:8080/"
        },
        "outputId": "c973c26c-908b-4e86-def0-efa1177049c4"
      },
      "execution_count": null,
      "outputs": [
        {
          "output_type": "stream",
          "name": "stdout",
          "text": [
            "cuda\n",
            "There are 1 GPU(s) available.\n",
            "We will use the GPU: Tesla T4\n"
          ]
        }
      ]
    },
    {
      "cell_type": "code",
      "source": [
        "# this cell is spliting train to train and val\n",
        "val_split = 0.2\n",
        "train_size = len(train_dataset)\n",
        "val_size = int(val_split * train_size)\n",
        "train_size = train_size - val_size\n",
        "train_dataset, val_dataset = torch.utils.data.random_split(train_dataset, [train_size, val_size])"
      ],
      "metadata": {
        "id": "PADduWNn_iyS"
      },
      "execution_count": null,
      "outputs": []
    },
    {
      "cell_type": "code",
      "source": [
        "# Define the data loaders for the train and test sets\n",
        "train_loader = DataLoader(train_dataset, batch_size=128, shuffle= True,\n",
        "                          drop_last=True)\n",
        "val_loader = DataLoader(val_dataset, batch_size=128, shuffle= True,\n",
        "                        drop_last=True)\n",
        "test_loader = DataLoader(test_dataset, batch_size=128, shuffle= True,\n",
        "                         drop_last=True)"
      ],
      "metadata": {
        "id": "I0DJvilDBCg4"
      },
      "execution_count": null,
      "outputs": []
    },
    {
      "cell_type": "markdown",
      "source": [
        "# Resnet 18"
      ],
      "metadata": {
        "id": "xPFLuRCe4c_a"
      }
    },
    {
      "cell_type": "code",
      "source": [
        "# Define the ResNet18 model\n",
        "model = torchvision.models.resnet18(pretrained=False)\n",
        "num_ftrs = model.fc.in_features\n",
        "model.fc = nn.Linear(num_ftrs, 10)\n",
        "DEVICE = torch.device('cuda' if torch.cuda.is_available() else 'cpu')\n",
        "model.to(DEVICE)"
      ],
      "metadata": {
        "id": "hBsB6xEh4fPJ"
      },
      "execution_count": null,
      "outputs": []
    },
    {
      "cell_type": "code",
      "source": [
        "# Define the loss function and optimizer\n",
        "criterion = nn.CrossEntropyLoss()\n",
        "optimizer = optim.Adam(model.parameters(), lr=0.01)"
      ],
      "metadata": {
        "id": "U8YDMtYD41Se"
      },
      "execution_count": null,
      "outputs": []
    },
    {
      "cell_type": "code",
      "source": [
        "# Train phase\n",
        "from tqdm import tqdm\n",
        "\n",
        "# Define the number of epochs\n",
        "num_epochs = 50\n",
        "loss_train = []\n",
        "loss_val = []\n",
        "loss_test = []\n",
        "\n",
        "accuracy_train = []\n",
        "accuracy_val = []\n",
        "accuracy_test = []\n",
        "\n",
        "for epoch in tqdm(range(num_epochs)):\n",
        "    model.train()\n",
        "    running_loss_train = 0.0\n",
        "    correct_train = 0\n",
        "    total_train = 0\n",
        "    running_loss_train = 0\n",
        "    for i, data in enumerate(train_loader, 0):\n",
        "        inputs, labels = data\n",
        "        inputs = inputs.to(DEVICE)\n",
        "        labels = labels.to(DEVICE)\n",
        "        # Zero the parameter gradients\n",
        "        optimizer.zero_grad()\n",
        "        # Forward + backward + optimize\n",
        "        outputs = model(inputs)\n",
        "        loss = criterion(outputs, labels)\n",
        "        loss.backward()\n",
        "        optimizer.step()\n",
        "        # loss\n",
        "        running_loss_train += loss.item()\n",
        "        # accuracy\n",
        "        _, predicted_train = torch.max(outputs.data, 1)\n",
        "        total_train += labels.size(0)\n",
        "        correct_train += (predicted_train == labels).sum().item()\n",
        "    accuracy = 100 * correct_train / total_train\n",
        "    loss_train.append(running_loss_train/len(train_loader))\n",
        "    accuracy_train.append(accuracy)\n",
        "    print(f\"Accuracy of the network on the train images after {epoch + 1} epochs is: {accuracy}\")\n",
        "\n",
        "    # Evaluate the model on validation\n",
        "    model.eval()\n",
        "    correct_val = 0\n",
        "    total_val = 0\n",
        "    running_loss_val = 0\n",
        "    with torch.no_grad():\n",
        "        for val_data in val_loader:\n",
        "            val_inputs, val_labels = val_data\n",
        "            val_inputs = val_inputs.to(DEVICE)\n",
        "            val_labels = val_labels.to(DEVICE)\n",
        "            # loss\n",
        "            val_outputs = model(val_inputs)\n",
        "            loss = criterion(val_outputs, val_labels)\n",
        "            running_loss_val += loss.item()\n",
        "            # accuracy\n",
        "            _, predicted_val = torch.max(val_outputs.data, 1)\n",
        "            total_val += val_labels.size(0)\n",
        "            correct_val += (predicted_val == val_labels).sum().item()\n",
        "    accuracy = 100 * correct_val / total_val\n",
        "    loss_val.append(running_loss_val/len(val_loader))        \n",
        "    accuracy_val.append(accuracy)\n",
        "    print(f\"Accuracy of the network on the val images after {epoch + 1} epochs is: {accuracy}\")"
      ],
      "metadata": {
        "id": "JHKGD8wL5WDR"
      },
      "execution_count": null,
      "outputs": []
    },
    {
      "cell_type": "code",
      "source": [
        "#save the path\n",
        "model_save_name = 'resnet18.pt'\n",
        "path = f\"/content/drive/MyDrive/projectDataset/animal10/{model_save_name}\" \n",
        "torch.save(model.state_dict(), path)"
      ],
      "metadata": {
        "id": "nGgmt8ISYUut"
      },
      "execution_count": null,
      "outputs": []
    },
    {
      "cell_type": "code",
      "source": [
        "# plot train and val and test accuracy \n",
        "plt.figure(figsize=(15, 5), dpi=80)\n",
        "\n",
        "plt.subplot(1, 2, 1)\n",
        "plt.plot(loss_train, label=\"Train\")\n",
        "plt.plot(loss_val, color='red', label=\"Validation\")\n",
        "plt.title('Loss function for the training data')\n",
        "plt.xlabel('epoch')\n",
        "plt.ylabel('loss')\n",
        "plt.grid()\n",
        "plt.legend()\n",
        "\n",
        "plt.subplot(1, 2, 2)\n",
        "plt.plot(accuracy_train, label=\"Train\")\n",
        "plt.plot(accuracy_val, color='red', label=\"Validation\")\n",
        "plt.title('Accuracy for the training data')\n",
        "plt.xlabel('epoch')\n",
        "plt.ylabel('Accuracy')\n",
        "plt.grid()\n",
        "plt.legend()"
      ],
      "metadata": {
        "id": "wHY_1Xhh5nQy",
        "colab": {
          "base_uri": "https://localhost:8080/",
          "height": 702
        },
        "outputId": "b19927fa-831d-4af0-cf7d-2aede0ee2fd7"
      },
      "execution_count": null,
      "outputs": [
        {
          "output_type": "execute_result",
          "data": {
            "text/plain": [
              "Text(0, 0.5, 'loss')"
            ]
          },
          "metadata": {},
          "execution_count": 14
        },
        {
          "output_type": "display_data",
          "data": {
            "text/plain": [
              "<Figure size 960x800 with 4 Axes>"
            ],
            "image/png": "[encoded data removed]"
          },
          "metadata": {
            "needs_background": "light"
          }
        }
      ]
    },
    {
      "cell_type": "code",
      "source": [
        "# save accuracy and loss\n",
        "import pickle\n",
        "with open(\"/content/drive/MyDrive/projectDataset/animal10/accuracy_resnet18.txt\", \"wb\") as fp:\n",
        "    pickle.dump(accuracy_train, fp)\n",
        "    pickle.dump(accuracy_val, fp)\n",
        "    pickle.dump(accuracy_test, fp)\n",
        "\n",
        "with open(\"/content/drive/MyDrive/projectDataset/animal10/loss_resnet18.txt\", \"wb\") as fp:\n",
        "    pickle.dump(loss_train, fp)\n",
        "    pickle.dump(loss_val, fp)\n",
        "    pickle.dump(loss_test, fp)"
      ],
      "metadata": {
        "id": "BXGIQm5ReElP"
      },
      "execution_count": null,
      "outputs": []
    },
    {
      "cell_type": "code",
      "source": [
        "# Evaluate the model on test\n",
        "model.eval()\n",
        "correct_test = 0\n",
        "total_test = 0\n",
        "running_loss_test = 0\n",
        "with torch.no_grad():\n",
        "    for data in test_loader:\n",
        "        inputs, labels = data\n",
        "        inputs = inputs.to(DEVICE)\n",
        "        labels = labels.to(DEVICE)\n",
        "        outputs = model(inputs)\n",
        "        loss = criterion(outputs, labels)\n",
        "        running_loss_test += loss.item()\n",
        "        _, predicted = torch.max(outputs.data, 1)\n",
        "        total_test += labels.size(0)\n",
        "        correct_test += (predicted == labels).sum().item()\n",
        "accuracy_test = 100 * correct_test / total_test\n",
        "loss_test = running_loss_test/len(test_loader)\n",
        "print(f\"Accuracy of the network on the test images is: {accuracy_test}\")\n",
        "print(f\"Loss of the network on the test images is: {loss_test}\")"
      ],
      "metadata": {
        "id": "daZF5_Cz6WzT"
      },
      "execution_count": null,
      "outputs": []
    },
    {
      "cell_type": "code",
      "source": [
        "y_pred = []\n",
        "y_true = []\n",
        "for inputs, labels in test_loader:\n",
        "        inputs = inputs.to(DEVICE)\n",
        "        output = model(inputs) # Feed Network\n",
        "\n",
        "        output = (torch.max(torch.exp(output), 1)[1]).data.cpu().numpy()\n",
        "        y_pred.extend(output) # Save Prediction\n",
        "        \n",
        "        labels = labels.data.cpu().numpy()\n",
        "        y_true.extend(labels) # Save Truth"
      ],
      "metadata": {
        "id": "s5sGlLGl6ZEx"
      },
      "execution_count": null,
      "outputs": []
    },
    {
      "cell_type": "code",
      "source": [
        "# save accuracy and loss\n",
        "import pickle\n",
        "with open(\"/content/drive/MyDrive/projectDataset/animal90/accuracy_resnet18.txt\", \"wb\") as fp:\n",
        "    pickle.dump(accuracy_train, fp)\n",
        "    pickle.dump(accuracy_val, fp)\n",
        "    pickle.dump(accuracy_test, fp)\n",
        "    pickle.dump(y_pred, fp)\n",
        "    pickle.dump(y_true, fp)\n",
        "\n",
        "with open(\"/content/drive/MyDrive/projectDataset/animal90/loss_resnet18.txt\", \"wb\") as fp:\n",
        "    pickle.dump(loss_train, fp)\n",
        "    pickle.dump(loss_val, fp)\n",
        "    pickle.dump(loss_test, fp)"
      ],
      "metadata": {
        "id": "GCSDYgzw6a9M"
      },
      "execution_count": null,
      "outputs": []
    },
    {
      "cell_type": "code",
      "source": [
        "recall = recall_score(y_true, y_pred, average='micro')\n",
        "precision = precision_score(y_true, y_pred, average='macro')\n",
        "f1 = f1_score(y_true, y_pred, average='macro')\n",
        "accuracy = accuracy_score(y_true, y_pred)\n",
        "print(f'Recall Score is: {recall}')\n",
        "print(f'Precision Score is : {precision}')\n",
        "print(f'F1 measure is: {f1}')\n",
        "print(f'Accuracy Score: {accuracy}')"
      ],
      "metadata": {
        "id": "jSgsb4WD6bsq"
      },
      "execution_count": null,
      "outputs": []
    },
    {
      "cell_type": "markdown",
      "source": [
        "# ShuffleNetV2"
      ],
      "metadata": {
        "id": "cxm0Nvkl9jUc"
      }
    },
    {
      "cell_type": "code",
      "source": [
        "# Define the ShuflleNetV2 model\n",
        "model = torchvision.models.shufflenet_v2_x1_0(pretrained=False)\n",
        "num_ftrs = model.fc.in_features\n",
        "model.fc = nn.Linear(num_ftrs, 10)\n",
        "DEVICE = torch.device('cuda' if torch.cuda.is_available() else 'cpu')\n",
        "model.to(DEVICE)"
      ],
      "metadata": {
        "id": "jNHeLt-a9mRG"
      },
      "execution_count": null,
      "outputs": []
    },
    {
      "cell_type": "code",
      "source": [
        "# Define the loss function and optimizer\n",
        "criterion = nn.CrossEntropyLoss()\n",
        "optimizer = optim.Adam(model.parameters(), lr=0.01)"
      ],
      "metadata": {
        "id": "ZGjhTpMX9_Bw"
      },
      "execution_count": null,
      "outputs": []
    },
    {
      "cell_type": "code",
      "source": [
        "# Train phase\n",
        "from tqdm import tqdm\n",
        "\n",
        "# Define the number of epochs\n",
        "num_epochs = 50\n",
        "loss_train = []\n",
        "loss_val = []\n",
        "loss_test = []\n",
        "\n",
        "accuracy_train = []\n",
        "accuracy_val = []\n",
        "accuracy_test = []\n",
        "\n",
        "for epoch in tqdm(range(num_epochs)):\n",
        "    model.train()\n",
        "    running_loss_train = 0.0\n",
        "    correct_train = 0\n",
        "    total_train = 0\n",
        "    running_loss_train = 0\n",
        "    for i, data in enumerate(train_loader, 0):\n",
        "        inputs, labels = data\n",
        "        inputs = inputs.to(DEVICE)\n",
        "        labels = labels.to(DEVICE)\n",
        "        # Zero the parameter gradients\n",
        "        optimizer.zero_grad()\n",
        "        # Forward + backward + optimize\n",
        "        outputs = model(inputs)\n",
        "        loss = criterion(outputs, labels)\n",
        "        loss.backward()\n",
        "        optimizer.step()\n",
        "        # loss\n",
        "        running_loss_train += loss.item()\n",
        "        # accuracy\n",
        "        _, predicted_train = torch.max(outputs.data, 1)\n",
        "        total_train += labels.size(0)\n",
        "        correct_train += (predicted_train == labels).sum().item()\n",
        "    accuracy = 100 * correct_train / total_train\n",
        "    loss_train.append(running_loss_train/len(train_loader))\n",
        "    accuracy_train.append(accuracy)\n",
        "    print(f\"Accuracy of the network on the train images after {epoch + 1} epochs is: {accuracy}\")\n",
        "\n",
        "    # Evaluate the model on validation\n",
        "    model.eval()\n",
        "    correct_val = 0\n",
        "    total_val = 0\n",
        "    running_loss_val = 0\n",
        "    with torch.no_grad():\n",
        "        for val_data in val_loader:\n",
        "            val_inputs, val_labels = val_data\n",
        "            val_inputs = val_inputs.to(DEVICE)\n",
        "            val_labels = val_labels.to(DEVICE)\n",
        "            # loss\n",
        "            val_outputs = model(val_inputs)\n",
        "            loss = criterion(val_outputs, val_labels)\n",
        "            running_loss_val += loss.item()\n",
        "            # accuracy\n",
        "            _, predicted_val = torch.max(val_outputs.data, 1)\n",
        "            total_val += val_labels.size(0)\n",
        "            correct_val += (predicted_val == val_labels).sum().item()\n",
        "    accuracy = 100 * correct_val / total_val\n",
        "    loss_val.append(running_loss_val/len(val_loader))        \n",
        "    accuracy_val.append(accuracy)\n",
        "    print(f\"Accuracy of the network on the val images after {epoch + 1} epochs is: {accuracy}\")"
      ],
      "metadata": {
        "id": "r2cXo_LH-BQy"
      },
      "execution_count": null,
      "outputs": []
    },
    {
      "cell_type": "code",
      "source": [
        "#save the path\n",
        "model_save_name = 'shufflenet_v2_x1_0.pt'\n",
        "path = f\"/content/drive/MyDrive/projectDataset/animal90/{model_save_name}\" \n",
        "torch.save(model.state_dict(), path)"
      ],
      "metadata": {
        "id": "kHehay-KjRZU"
      },
      "execution_count": null,
      "outputs": []
    },
    {
      "cell_type": "code",
      "source": [
        "# plot train and val and test accuracy \n",
        "plt.figure(figsize=(15, 5), dpi=80)\n",
        "\n",
        "plt.subplot(1, 2, 1)\n",
        "plt.plot(loss_train, label=\"Train\")\n",
        "plt.plot(loss_val, color='red', label=\"Validation\")\n",
        "plt.title('Loss function for the training data')\n",
        "plt.xlabel('epoch')\n",
        "plt.ylabel('loss')\n",
        "plt.grid()\n",
        "plt.legend()\n",
        "\n",
        "plt.subplot(1, 2, 2)\n",
        "plt.plot(accuracy_train, label=\"Train\")\n",
        "plt.plot(accuracy_val, color='red', label=\"Validation\")\n",
        "plt.title('Accuracy for the training data')\n",
        "plt.xlabel('epoch')\n",
        "plt.ylabel('Accuracy')\n",
        "plt.grid()\n",
        "plt.legend()"
      ],
      "metadata": {
        "id": "nE0mOfRz-Dbz",
        "colab": {
          "base_uri": "https://localhost:8080/",
          "height": 702
        },
        "outputId": "9ac253a2-b8a2-4a3a-fc3f-4176a2e37a76"
      },
      "execution_count": null,
      "outputs": [
        {
          "output_type": "execute_result",
          "data": {
            "text/plain": [
              "Text(0, 0.5, 'loss')"
            ]
          },
          "metadata": {},
          "execution_count": 20
        },
        {
          "output_type": "display_data",
          "data": {
            "text/plain": [
              "<Figure size 960x800 with 4 Axes>"
            ],
            "image/png": "[encoded data removed]"
          },
          "metadata": {
            "needs_background": "light"
          }
        }
      ]
    },
    {
      "cell_type": "code",
      "source": [
        "# Evaluate the model on test\n",
        "model.eval()\n",
        "correct_test = 0\n",
        "total_test = 0\n",
        "running_loss_test = 0\n",
        "with torch.no_grad():\n",
        "    for data in test_loader:\n",
        "        inputs, labels = data\n",
        "        inputs = inputs.to(DEVICE)\n",
        "        labels = labels.to(DEVICE)\n",
        "        outputs = model(inputs)\n",
        "        loss = criterion(outputs, labels)\n",
        "        running_loss_test += loss.item()\n",
        "        _, predicted = torch.max(outputs.data, 1)\n",
        "        total_test += labels.size(0)\n",
        "        correct_test += (predicted == labels).sum().item()\n",
        "accuracy_test = 100 * correct_test / total_test\n",
        "loss_test = running_loss_test/len(test_loader)\n",
        "print(f\"Accuracy of the network on the test images is: {accuracy_test}\")\n",
        "print(f\"Loss of the network on the test images is: {loss_test}\")"
      ],
      "metadata": {
        "id": "laX3_4OL55Zk"
      },
      "execution_count": null,
      "outputs": []
    },
    {
      "cell_type": "code",
      "source": [
        "y_pred = []\n",
        "y_true = []\n",
        "for inputs, labels in test_loader:\n",
        "        inputs = inputs.to(DEVICE)\n",
        "        output = model(inputs) # Feed Network\n",
        "\n",
        "        output = (torch.max(torch.exp(output), 1)[1]).data.cpu().numpy()\n",
        "        y_pred.extend(output) # Save Prediction\n",
        "        \n",
        "        labels = labels.data.cpu().numpy()\n",
        "        y_true.extend(labels) # Save Truth"
      ],
      "metadata": {
        "id": "HAlOlJ_358Nr"
      },
      "execution_count": null,
      "outputs": []
    },
    {
      "cell_type": "code",
      "source": [
        "# save accuracy and loss\n",
        "import pickle\n",
        "with open(\"/content/drive/MyDrive/projectDataset/animal90/accuracy_mobilenet_v2.txt\", \"wb\") as fp:\n",
        "    pickle.dump(accuracy_train, fp)\n",
        "    pickle.dump(accuracy_val, fp)\n",
        "    pickle.dump(accuracy_test, fp)\n",
        "    pickle.dump(y_pred, fp)\n",
        "    pickle.dump(y_true, fp)\n",
        "\n",
        "with open(\"/content/drive/MyDrive/projectDataset/animal90/loss_mobilenet_v2.txt\", \"wb\") as fp:\n",
        "    pickle.dump(loss_train, fp)\n",
        "    pickle.dump(loss_val, fp)\n",
        "    pickle.dump(loss_test, fp)"
      ],
      "metadata": {
        "id": "kuGh8BgYeSLs"
      },
      "execution_count": null,
      "outputs": []
    },
    {
      "cell_type": "code",
      "source": [
        "recall = recall_score(y_true, y_pred, average='micro')\n",
        "precision = precision_score(y_true, y_pred, average='macro')\n",
        "f1 = f1_score(y_true, y_pred, average='macro')\n",
        "accuracy = accuracy_score(y_true, y_pred)\n",
        "print(f'Recall Score is: {recall}')\n",
        "print(f'Precision Score is : {precision}')\n",
        "print(f'F1 measure is: {f1}')\n",
        "print(f'Accuracy Score: {accuracy}')"
      ],
      "metadata": {
        "id": "WpPuIdAB5_w-"
      },
      "execution_count": null,
      "outputs": []
    },
    {
      "cell_type": "markdown",
      "source": [
        "# MobileNet V2"
      ],
      "metadata": {
        "id": "68cMbC0l4rDC"
      }
    },
    {
      "cell_type": "code",
      "source": [
        "# Define the ShuflleNetV2 model\n",
        "model = torchvision.models.mobilenet_v2(pretrained=False)\n",
        "model.classifier[1] = torch.nn.Linear(model.classifier[1].in_features, num_class)\n",
        "# num_ftrs = model.fc.in_features\n",
        "# model.fc = nn.Linear(num_ftrs, 2)\n",
        "DEVICE = torch.device('cuda' if torch.cuda.is_available() else 'cpu')\n",
        "model.to(DEVICE)"
      ],
      "metadata": {
        "id": "HJLFi01E4utN"
      },
      "execution_count": null,
      "outputs": []
    },
    {
      "cell_type": "code",
      "source": [
        "# Define the loss function and optimizer\n",
        "criterion = nn.CrossEntropyLoss()\n",
        "optimizer = optim.Adam(model.parameters(), lr=0.01)"
      ],
      "metadata": {
        "id": "9oq7UJOn5TYl"
      },
      "execution_count": null,
      "outputs": []
    },
    {
      "cell_type": "code",
      "source": [
        "# Train phase\n",
        "from tqdm import tqdm\n",
        "\n",
        "# Define the number of epochs\n",
        "num_epochs = 50\n",
        "loss_train = []\n",
        "loss_val = []\n",
        "loss_test = []\n",
        "\n",
        "accuracy_train = []\n",
        "accuracy_val = []\n",
        "accuracy_test = []\n",
        "\n",
        "for epoch in tqdm(range(num_epochs)):\n",
        "    model.train()\n",
        "    running_loss_train = 0.0\n",
        "    correct_train = 0\n",
        "    total_train = 0\n",
        "    running_loss_train = 0\n",
        "    for i, data in enumerate(train_loader, 0):\n",
        "        inputs, labels = data\n",
        "        inputs = inputs.to(DEVICE)\n",
        "        labels = labels.to(DEVICE)\n",
        "        # Zero the parameter gradients\n",
        "        optimizer.zero_grad()\n",
        "        # Forward + backward + optimize\n",
        "        outputs = model(inputs)\n",
        "        loss = criterion(outputs, labels)\n",
        "        loss.backward()\n",
        "        optimizer.step()\n",
        "        # loss\n",
        "        running_loss_train += loss.item()\n",
        "        # accuracy\n",
        "        _, predicted_train = torch.max(outputs.data, 1)\n",
        "        total_train += labels.size(0)\n",
        "        correct_train += (predicted_train == labels).sum().item()\n",
        "    accuracy = 100 * correct_train / total_train\n",
        "    loss_train.append(running_loss_train/len(train_loader))\n",
        "    accuracy_train.append(accuracy)\n",
        "    print(f\"Accuracy of the network on the train images after {epoch + 1} epochs is: {accuracy}\")\n",
        "\n",
        "    # Evaluate the model on validation\n",
        "    model.eval()\n",
        "    correct_val = 0\n",
        "    total_val = 0\n",
        "    running_loss_val = 0\n",
        "    with torch.no_grad():\n",
        "        for val_data in val_loader:\n",
        "            val_inputs, val_labels = val_data\n",
        "            val_inputs = val_inputs.to(DEVICE)\n",
        "            val_labels = val_labels.to(DEVICE)\n",
        "            # loss\n",
        "            val_outputs = model(val_inputs)\n",
        "            loss = criterion(val_outputs, val_labels)\n",
        "            running_loss_val += loss.item()\n",
        "            # accuracy\n",
        "            _, predicted_val = torch.max(val_outputs.data, 1)\n",
        "            total_val += val_labels.size(0)\n",
        "            correct_val += (predicted_val == val_labels).sum().item()\n",
        "    accuracy = 100 * correct_val / total_val\n",
        "    loss_val.append(running_loss_val/len(val_loader))        \n",
        "    accuracy_val.append(accuracy)\n",
        "    print(f\"Accuracy of the network on the val images after {epoch + 1} epochs is: {accuracy}\")"
      ],
      "metadata": {
        "id": "3-Xew4fB5V6S"
      },
      "execution_count": null,
      "outputs": []
    },
    {
      "cell_type": "code",
      "source": [
        "#save the path\n",
        "model_save_name = 'mobilenet_v2.pt'\n",
        "path = f\"/content/drive/MyDrive/projectDataset/animal90/{model_save_name}\" \n",
        "torch.save(model.state_dict(), path)"
      ],
      "metadata": {
        "id": "vaNWprQe5bkf"
      },
      "execution_count": null,
      "outputs": []
    },
    {
      "cell_type": "code",
      "source": [
        "# plot train and val and test accuracy \n",
        "plt.figure(figsize=(15, 5), dpi=80)\n",
        "\n",
        "plt.subplot(1, 2, 1)\n",
        "plt.plot(loss_train, label=\"Train\")\n",
        "plt.plot(loss_val, color='red', label=\"Validation\")\n",
        "plt.title('Loss function for the training data')\n",
        "plt.xlabel('epoch')\n",
        "plt.ylabel('loss')\n",
        "plt.grid()\n",
        "plt.legend()\n",
        "\n",
        "plt.subplot(1, 2, 2)\n",
        "plt.plot(accuracy_train, label=\"Train\")\n",
        "plt.plot(accuracy_val, color='red', label=\"Validation\")\n",
        "plt.title('Accuracy for the training data')\n",
        "plt.xlabel('epoch')\n",
        "plt.ylabel('Accuracy')\n",
        "plt.grid()\n",
        "plt.legend()"
      ],
      "metadata": {
        "id": "KgaNLJHC5dFT"
      },
      "execution_count": null,
      "outputs": []
    },
    {
      "cell_type": "code",
      "source": [
        "# Evaluate the model on test\n",
        "model.eval()\n",
        "correct_test = 0\n",
        "total_test = 0\n",
        "running_loss_test = 0\n",
        "with torch.no_grad():\n",
        "    for data in test_loader:\n",
        "        inputs, labels = data\n",
        "        inputs = inputs.to(DEVICE)\n",
        "        labels = labels.to(DEVICE)\n",
        "        outputs = model(inputs)\n",
        "        loss = criterion(outputs, labels)\n",
        "        running_loss_test += loss.item()\n",
        "        _, predicted = torch.max(outputs.data, 1)\n",
        "        total_test += labels.size(0)\n",
        "        correct_test += (predicted == labels).sum().item()\n",
        "accuracy_test = 100 * correct_test / total_test\n",
        "loss_test = running_loss_test/len(test_loader)\n",
        "print(f\"Accuracy of the network on the test images is: {accuracy_test}\")\n",
        "print(f\"Loss of the network on the test images is: {loss_test}\")"
      ],
      "metadata": {
        "id": "D80M1Mds5ewt"
      },
      "execution_count": null,
      "outputs": []
    },
    {
      "cell_type": "code",
      "source": [
        "y_pred = []\n",
        "y_true = []\n",
        "for inputs, labels in test_loader:\n",
        "        inputs = inputs.to(DEVICE)\n",
        "        output = model(inputs) # Feed Network\n",
        "\n",
        "        output = (torch.max(torch.exp(output), 1)[1]).data.cpu().numpy()\n",
        "        y_pred.extend(output) # Save Prediction\n",
        "        \n",
        "        labels = labels.data.cpu().numpy()\n",
        "        y_true.extend(labels) # Save Truth"
      ],
      "metadata": {
        "id": "5pL4003-5g6B"
      },
      "execution_count": null,
      "outputs": []
    },
    {
      "cell_type": "code",
      "source": [
        "# save accuracy and loss\n",
        "import pickle\n",
        "with open(\"/content/drive/MyDrive/projectDataset/animal90/accuracy_mobilenet_v2.txt\", \"wb\") as fp:\n",
        "    pickle.dump(accuracy_train, fp)\n",
        "    pickle.dump(accuracy_val, fp)\n",
        "    pickle.dump(accuracy_test, fp)\n",
        "    pickle.dump(y_pred, fp)\n",
        "    pickle.dump(y_true, fp)\n",
        "\n",
        "with open(\"/content/drive/MyDrive/projectDataset/animal90/loss_mobilenet_v2.txt\", \"wb\") as fp:\n",
        "    pickle.dump(loss_train, fp)\n",
        "    pickle.dump(loss_val, fp)\n",
        "    pickle.dump(loss_test, fp)"
      ],
      "metadata": {
        "id": "lvWc_AvI5ioV"
      },
      "execution_count": null,
      "outputs": []
    },
    {
      "cell_type": "code",
      "source": [
        "recall = recall_score(y_true, y_pred, average='micro')\n",
        "precision = precision_score(y_true, y_pred, average='macro')\n",
        "f1 = f1_score(y_true, y_pred, average='macro')\n",
        "accuracy = accuracy_score(y_true, y_pred)\n",
        "print(f'Recall Score is: {recall}')\n",
        "print(f'Precision Score is : {precision}')\n",
        "print(f'F1 measure is: {f1}')\n",
        "print(f'Accuracy Score: {accuracy}')"
      ],
      "metadata": {
        "id": "BcoM4RNm5kkK"
      },
      "execution_count": null,
      "outputs": []
    },
    {
      "cell_type": "markdown",
      "source": [
        "# Test - HyperParam Tuning"
      ],
      "metadata": {
        "id": "uuvygX5mSbxd"
      }
    },
    {
      "cell_type": "code",
      "source": [
        "from tqdm import tqdm\n",
        "lrs = [0.1, 0.01, 0.001, 0.0001, 0.005, 0.0005]\n",
        "validation_accuracies = []\n",
        "\n",
        "for lr in lrs:\n",
        "    print(f'Training the model for lr = {lr} -----------------------------')\n",
        "    # Define the ShuflleNetV2 model\n",
        "    model = torchvision.models.shufflenet_v2_x1_0(pretrained=False)\n",
        "    num_ftrs = model.fc.in_features\n",
        "    model.fc = nn.Linear(num_ftrs, 10)\n",
        "    DEVICE = torch.device('cuda' if torch.cuda.is_available() else 'cpu')\n",
        "    model.to(DEVICE)\n",
        "\n",
        "    # Define the loss function and optimizer\n",
        "    criterion = nn.CrossEntropyLoss()\n",
        "    optimizer = optim.Adam(model.parameters(), lr=lr)\n",
        "\n",
        "    # Define the number of epochs\n",
        "    num_epochs = 10\n",
        "    loss_train = []\n",
        "    loss_val = []\n",
        "    loss_test = []\n",
        "\n",
        "    accuracy_train = []\n",
        "    accuracy_val = []\n",
        "    accuracy_test = []\n",
        "\n",
        "    for epoch in tqdm(range(num_epochs)):\n",
        "        model.train()\n",
        "        running_loss_train = 0.0\n",
        "        correct_train = 0\n",
        "        total_train = 0\n",
        "        running_loss_train = 0\n",
        "        for i, data in enumerate(train_loader, 0):\n",
        "            inputs, labels = data\n",
        "            inputs = inputs.to(DEVICE)\n",
        "            labels = labels.to(DEVICE)\n",
        "            # Zero the parameter gradients\n",
        "            optimizer.zero_grad()\n",
        "            # Forward + backward + optimize\n",
        "            outputs = model(inputs)\n",
        "            loss = criterion(outputs, labels)\n",
        "            loss.backward()\n",
        "            optimizer.step()\n",
        "            # loss\n",
        "            running_loss_train += loss.item()\n",
        "            # accuracy\n",
        "            _, predicted_train = torch.max(outputs.data, 1)\n",
        "            total_train += labels.size(0)\n",
        "            correct_train += (predicted_train == labels).sum().item()\n",
        "        accuracy = 100 * correct_train / total_train\n",
        "        loss_train.append(running_loss_train/len(train_loader))\n",
        "        accuracy_train.append(accuracy)\n",
        "        print(f\"\\nAccuracy of the network on the train images after {epoch + 1} epochs is: {accuracy:.3f}\")\n",
        "\n",
        "        # Evaluate the model on validation\n",
        "        model.eval()\n",
        "        correct_val = 0\n",
        "        total_val = 0\n",
        "        running_loss_val = 0\n",
        "        with torch.no_grad():\n",
        "            for val_data in val_loader:\n",
        "                val_inputs, val_labels = val_data\n",
        "                val_inputs = val_inputs.to(DEVICE)\n",
        "                val_labels = val_labels.to(DEVICE)\n",
        "                # loss\n",
        "                val_outputs = model(val_inputs)\n",
        "                loss = criterion(val_outputs, val_labels)\n",
        "                running_loss_val += loss.item()\n",
        "                # accuracy\n",
        "                _, predicted_val = torch.max(val_outputs.data, 1)\n",
        "                total_val += val_labels.size(0)\n",
        "                correct_val += (predicted_val == val_labels).sum().item()\n",
        "        accuracy = 100 * correct_val / total_val\n",
        "        loss_val.append(running_loss_val/len(val_loader))        \n",
        "        accuracy_val.append(accuracy)\n",
        "        print(f\"Accuracy of the network on the val images after {epoch + 1} epochs is: {accuracy:.3f}\")\n",
        "    validation_accuracies.append(accuracy)    "
      ],
      "metadata": {
        "id": "t_CoyTb9SfnG"
      },
      "execution_count": null,
      "outputs": []
    },
    {
      "cell_type": "code",
      "source": [
        "for i in range(len(validation_accuracies)):\n",
        "    print(f'Accuracy of the model for lr= {lrs[i]} is {validation_accuracies[i]} on validation dataset after 10 epochs.')"
      ],
      "metadata": {
        "id": "0F0uSjPkS-NJ"
      },
      "execution_count": null,
      "outputs": []
    },
    {
      "cell_type": "markdown",
      "source": [
        "# ShuffleNet (Tuned lr)"
      ],
      "metadata": {
        "id": "hE1l-YW8M_q0"
      }
    },
    {
      "cell_type": "code",
      "source": [
        "# Define the ShuflleNetV2 model\n",
        "model = torchvision.models.shufflenet_v2_x1_0(pretrained=False)\n",
        "num_ftrs = model.fc.in_features\n",
        "model.fc = nn.Linear(num_ftrs, 10)\n",
        "DEVICE = torch.device('cuda' if torch.cuda.is_available() else 'cpu')\n",
        "model.to(DEVICE)"
      ],
      "metadata": {
        "id": "9THLtFEvNAZQ"
      },
      "execution_count": null,
      "outputs": []
    },
    {
      "cell_type": "code",
      "source": [
        "# Define the loss function and optimizer\n",
        "criterion = nn.CrossEntropyLoss()\n",
        "optimizer = optim.Adam(model.parameters(), lr=0.005)"
      ],
      "metadata": {
        "id": "XW9gmu53NERq"
      },
      "execution_count": null,
      "outputs": []
    },
    {
      "cell_type": "code",
      "source": [
        "# Train phase\n",
        "from tqdm import tqdm\n",
        "\n",
        "# Define the number of epochs\n",
        "num_epochs = 50\n",
        "loss_train = []\n",
        "loss_val = []\n",
        "loss_test = []\n",
        "\n",
        "accuracy_train = []\n",
        "accuracy_val = []\n",
        "accuracy_test = []\n",
        "\n",
        "for epoch in tqdm(range(num_epochs)):\n",
        "    model.train()\n",
        "    running_loss_train = 0.0\n",
        "    correct_train = 0\n",
        "    total_train = 0\n",
        "    running_loss_train = 0\n",
        "    for i, data in enumerate(train_loader, 0):\n",
        "        inputs, labels = data\n",
        "        inputs = inputs.to(DEVICE)\n",
        "        labels = labels.to(DEVICE)\n",
        "        # Zero the parameter gradients\n",
        "        optimizer.zero_grad()\n",
        "        # Forward + backward + optimize\n",
        "        outputs = model(inputs)\n",
        "        loss = criterion(outputs, labels)\n",
        "        loss.backward()\n",
        "        optimizer.step()\n",
        "        # loss\n",
        "        running_loss_train += loss.item()\n",
        "        # accuracy\n",
        "        _, predicted_train = torch.max(outputs.data, 1)\n",
        "        total_train += labels.size(0)\n",
        "        correct_train += (predicted_train == labels).sum().item()\n",
        "    accuracy = 100 * correct_train / total_train\n",
        "    loss_train.append(running_loss_train/len(train_loader))\n",
        "    accuracy_train.append(accuracy)\n",
        "    print(f\"Accuracy of the network on the train images after {epoch + 1} epochs is: {accuracy}\")\n",
        "\n",
        "    # Evaluate the model on validation\n",
        "    model.eval()\n",
        "    correct_val = 0\n",
        "    total_val = 0\n",
        "    running_loss_val = 0\n",
        "    with torch.no_grad():\n",
        "        for val_data in val_loader:\n",
        "            val_inputs, val_labels = val_data\n",
        "            val_inputs = val_inputs.to(DEVICE)\n",
        "            val_labels = val_labels.to(DEVICE)\n",
        "            # loss\n",
        "            val_outputs = model(val_inputs)\n",
        "            loss = criterion(val_outputs, val_labels)\n",
        "            running_loss_val += loss.item()\n",
        "            # accuracy\n",
        "            _, predicted_val = torch.max(val_outputs.data, 1)\n",
        "            total_val += val_labels.size(0)\n",
        "            correct_val += (predicted_val == val_labels).sum().item()\n",
        "    accuracy = 100 * correct_val / total_val\n",
        "    loss_val.append(running_loss_val/len(val_loader))        \n",
        "    accuracy_val.append(accuracy)\n",
        "    print(f\"Accuracy of the network on the val images after {epoch + 1} epochs is: {accuracy}\")"
      ],
      "metadata": {
        "id": "dPDZmsKvNF0e"
      },
      "execution_count": null,
      "outputs": []
    },
    {
      "cell_type": "code",
      "source": [
        "#save the path\n",
        "model_save_name = 'shufflenet_v2_x1_0_tunedLr.pt'\n",
        "path = f\"/content/drive/MyDrive/projectDataset/animal10/{model_save_name}\" \n",
        "torch.save(model.state_dict(), path)"
      ],
      "metadata": {
        "id": "gCLq3FrxNI19"
      },
      "execution_count": null,
      "outputs": []
    },
    {
      "cell_type": "code",
      "source": [
        "# plot train and val and test accuracy \n",
        "plt.figure(figsize=(15, 5), dpi=80)\n",
        "\n",
        "plt.subplot(1, 2, 1)\n",
        "plt.plot(loss_train, label=\"Train\")\n",
        "plt.plot(loss_val, color='red', label=\"Validation\")\n",
        "plt.title('Loss function for the training data')\n",
        "plt.xlabel('epoch')\n",
        "plt.ylabel('Loss')\n",
        "plt.grid()\n",
        "plt.legend()\n",
        "\n",
        "plt.subplot(1, 2, 2)\n",
        "plt.plot(accuracy_train, label=\"Train\")\n",
        "plt.plot(accuracy_val, color='red', label=\"Validation\")\n",
        "plt.title('Accuracy for the training data')\n",
        "plt.xlabel('epoch')\n",
        "plt.ylabel('Accuracy')\n",
        "plt.grid()\n",
        "plt.legend()"
      ],
      "metadata": {
        "id": "pWFewJXHNKjX"
      },
      "execution_count": null,
      "outputs": []
    },
    {
      "cell_type": "code",
      "source": [
        "# Evaluate the model on test\n",
        "model.eval()\n",
        "correct_test = 0\n",
        "total_test = 0\n",
        "running_loss_test = 0\n",
        "with torch.no_grad():\n",
        "    for data in test_loader:\n",
        "        inputs, labels = data\n",
        "        inputs = inputs.to(DEVICE)\n",
        "        labels = labels.to(DEVICE)\n",
        "        outputs = model(inputs)\n",
        "        loss = criterion(val_outputs, val_labels)\n",
        "        running_loss_test += loss.item()\n",
        "        _, predicted = torch.max(outputs.data, 1)\n",
        "        total_test += labels.size(0)\n",
        "        correct_test += (predicted == labels).sum().item()\n",
        "accuracy = 100 * correct_test / total_test\n",
        "loss_test = running_loss_test/len(test_loader)\n",
        "print(f\"Accuracy of the network on the test images is: {accuracy}\")\n",
        "print(f\"Loss of the network on the test images is: {loss_test}\")"
      ],
      "metadata": {
        "id": "1gQ93A5CNMI0"
      },
      "execution_count": null,
      "outputs": []
    },
    {
      "cell_type": "code",
      "source": [
        "# save accuracy and loss\n",
        "import pickle\n",
        "with open(\"/content/drive/MyDrive/projectDataset/animal10/accuracy_shufflenet_v2_x1_0_tunedLr.txt\", \"wb\") as fp:\n",
        "    pickle.dump(accuracy_train, fp)\n",
        "    pickle.dump(accuracy_val, fp)\n",
        "    pickle.dump(accuracy_test, fp)\n",
        "\n",
        "with open(\"/content/drive/MyDrive/projectDataset/animal10/loss_shufflenet_v2_x1_0_tunedLr.txt\", \"wb\") as fp:\n",
        "    pickle.dump(loss_train, fp)\n",
        "    pickle.dump(loss_val, fp)\n",
        "    pickle.dump(loss_test, fp)"
      ],
      "metadata": {
        "id": "sgpfP7NONNqm"
      },
      "execution_count": null,
      "outputs": []
    }
  ]
}