{
  "cells": [
    {
      "cell_type": "markdown",
      "metadata": {
        "id": "yBIZlHNr7mMc"
      },
      "source": [
        "#Import the libraries"
      ]
    },
    {
      "cell_type": "code",
      "execution_count": null,
      "metadata": {
        "id": "jLrn6NbZQ-zD"
      },
      "outputs": [],
      "source": [
        "import numpy as np\n",
        "import pandas as pd\n",
        "from sklearn import preprocessing\n",
        "from sklearn.model_selection import train_test_split\n",
        "from sklearn.metrics import confusion_matrix\n",
        "import matplotlib.pyplot as plt\n",
        "from matplotlib.pyplot import figure\n",
        "import os\n",
        "import cv2 \n",
        "from google.colab.patches import cv2_imshow\n",
        "from PIL import Image\n",
        "import sys\n",
        "import math\n",
        "import random\n",
        "from skimage.transform import rotate, AffineTransform\n",
        "from skimage.util import random_noise\n",
        "\n",
        "from sklearn.metrics import classification_report\n",
        "from sklearn.metrics import accuracy_score\n",
        "\n",
        "import torch\n",
        "import torchvision\n",
        "import torchvision.transforms as transforms\n",
        "from torch.utils.data import DataLoader\n",
        "\n",
        "from torch.utils.data import TensorDataset, ConcatDataset\n",
        "import random\n",
        "from torchvision import datasets\n",
        "import torch.nn as nn\n",
        "import torch.optim as optim\n",
        "\n",
        "from sklearn.metrics import recall_score\n",
        "from sklearn.metrics import accuracy_score\n",
        "from sklearn.metrics import precision_score\n",
        "from sklearn.metrics import f1_score"
      ]
    },
    {
      "cell_type": "code",
      "execution_count": null,
      "metadata": {
        "id": "8nCBRoTYdle1",
        "colab": {
          "base_uri": "https://localhost:8080/"
        },
        "outputId": "5aac07e5-00fd-4bc8-8277-eb265f6a68d0"
      },
      "outputs": [
        {
          "output_type": "stream",
          "name": "stdout",
          "text": [
            "Mounted at /content/drive\n"
          ]
        }
      ],
      "source": [
        "from google.colab import drive\n",
        "drive.mount('/content/drive')"
      ]
    },
    {
      "cell_type": "markdown",
      "metadata": {
        "id": "qqmGyu9bEt6j"
      },
      "source": [
        "#Data Preparation"
      ]
    },
    {
      "cell_type": "code",
      "source": [
        "if torch.cuda.is_available():    \n",
        "  # Tell PyTorch to use the GPU.    \n",
        "  print(torch.device(\"cuda\"))\n",
        "  print('There are %d GPU(s) available.' % torch.cuda.device_count())\n",
        "  print('We will use the GPU:', torch.cuda.get_device_name(0))\n",
        "  # If not...\n",
        "else:\n",
        "  print('No GPU available, using the CPU instead.')\n",
        "  print(torch.device(\"cpu\"))"
      ],
      "metadata": {
        "colab": {
          "base_uri": "https://localhost:8080/"
        },
        "id": "s4sDibTy5JDS",
        "outputId": "5a90bca6-b7e7-4ea7-88e8-0b71a9bc3591"
      },
      "execution_count": null,
      "outputs": [
        {
          "output_type": "stream",
          "name": "stdout",
          "text": [
            "cuda\n",
            "There are 1 GPU(s) available.\n",
            "We will use the GPU: Tesla T4\n"
          ]
        }
      ]
    },
    {
      "cell_type": "code",
      "execution_count": null,
      "metadata": {
        "id": "fuoWJNwbErsu"
      },
      "outputs": [],
      "source": [
        "# this cell is regarding the aumentation and normalization with the stats of data\n",
        "transform = transforms.Compose([\n",
        "    transforms.Resize((224, 224)),\n",
        "    transforms.RandomRotation(degrees=45),\n",
        "    transforms.RandomHorizontalFlip(p=0.5),\n",
        "    transforms.RandomVerticalFlip(p=0.5),\n",
        "    transforms.GaussianBlur(kernel_size=3, sigma=(0.1, 2)),\n",
        "    # transforms.RandomAffine(degrees=0, translate=(0.15, 0.15)),\n",
        "    # transforms.RandomResizedCrop(size=(224, 224), scale=(0.5, 1.0)),\n",
        "    transforms.ToTensor(),\n",
        "    transforms.Normalize(mean=[0.485, 0.456, 0.406], std=[0.229, 0.224, 0.225])\n",
        "])"
      ]
    },
    {
      "cell_type": "code",
      "execution_count": null,
      "metadata": {
        "id": "d2cA7x-tEyVg"
      },
      "outputs": [],
      "source": [
        "dataset = datasets.ImageFolder(\"/content/drive/MyDrive/projectDataset/animal90/animals\", transform= transform)"
      ]
    },
    {
      "cell_type": "code",
      "execution_count": null,
      "metadata": {
        "id": "NcWUHw5fE0I3"
      },
      "outputs": [],
      "source": [
        "# this cell is spliting dataset to train and test\n",
        "import torch\n",
        "from torch.utils.data import DataLoader, SubsetRandomSampler\n",
        "test_split = 0.2\n",
        "dataset_size = len(dataset)\n",
        "test_size = int(test_split * dataset_size)\n",
        "train_size = dataset_size - test_size\n",
        "train_dataset, test_dataset = torch.utils.data.random_split(dataset, [train_size, test_size])"
      ]
    },
    {
      "cell_type": "code",
      "execution_count": null,
      "metadata": {
        "id": "aFAC9xndE1-0"
      },
      "outputs": [],
      "source": [
        "# this cell is spliting train to train and val\n",
        "val_split = 0.2\n",
        "train_size = len(train_dataset)\n",
        "val_size = int(val_split * train_size)\n",
        "train_size = train_size - val_size\n",
        "train_dataset, val_dataset = torch.utils.data.random_split(train_dataset, [train_size, val_size])"
      ]
    },
    {
      "cell_type": "code",
      "execution_count": null,
      "metadata": {
        "id": "7VDElqbrE3kX"
      },
      "outputs": [],
      "source": [
        "# Define the data loaders for the train and test sets\n",
        "train_loader = DataLoader(train_dataset, batch_size=128, shuffle= True,\n",
        "                          drop_last=True)\n",
        "val_loader = DataLoader(val_dataset, batch_size=128, shuffle= True,\n",
        "                        drop_last=True)\n",
        "test_loader = DataLoader(test_dataset, batch_size=128, shuffle= True,\n",
        "                         drop_last=True)"
      ]
    },
    {
      "cell_type": "code",
      "execution_count": null,
      "metadata": {
        "id": "ac8h6RKsjmK0"
      },
      "outputs": [],
      "source": [
        "num_class = len(dataset.classes)"
      ]
    },
    {
      "cell_type": "code",
      "execution_count": null,
      "metadata": {
        "colab": {
          "base_uri": "https://localhost:8080/"
        },
        "id": "e8-66uRij2O8",
        "outputId": "59b24ed4-2f06-4ec2-b1ff-fffba4f075bb"
      },
      "outputs": [
        {
          "output_type": "stream",
          "name": "stdout",
          "text": [
            "85\n"
          ]
        }
      ],
      "source": [
        "print(num_class)"
      ]
    },
    {
      "cell_type": "markdown",
      "metadata": {
        "id": "sjzId0-j6Lax"
      },
      "source": [
        "# Resnet 18"
      ]
    },
    {
      "cell_type": "code",
      "execution_count": null,
      "metadata": {
        "id": "Oft7MQN86JTx"
      },
      "outputs": [],
      "source": [
        "# Define the ResNet18 model\n",
        "model = torchvision.models.resnet18(pretrained=False)\n",
        "num_ftrs = model.fc.in_features\n",
        "model.fc = nn.Linear(num_ftrs, num_class)\n",
        "DEVICE = torch.device('cuda' if torch.cuda.is_available() else 'cpu')\n",
        "model.to(DEVICE)"
      ]
    },
    {
      "cell_type": "code",
      "execution_count": null,
      "metadata": {
        "id": "yp0qXygn6N64"
      },
      "outputs": [],
      "source": [
        "# Define the loss function and optimizer\n",
        "criterion = nn.CrossEntropyLoss()\n",
        "optimizer = optim.Adam(model.parameters(), lr=0.01)"
      ]
    },
    {
      "cell_type": "code",
      "execution_count": null,
      "metadata": {
        "id": "GJInl4m46QqH"
      },
      "outputs": [],
      "source": [
        "# Train phase\n",
        "from tqdm import tqdm\n",
        "\n",
        "# Define the number of epochs\n",
        "num_epochs = 50\n",
        "loss_train = []\n",
        "loss_val = []\n",
        "loss_test = []\n",
        "\n",
        "accuracy_train = []\n",
        "accuracy_val = []\n",
        "accuracy_test = []\n",
        "\n",
        "for epoch in tqdm(range(num_epochs)):\n",
        "    model.train()\n",
        "    running_loss_train = 0.0\n",
        "    correct_train = 0\n",
        "    total_train = 0\n",
        "    running_loss_train = 0\n",
        "    for i, data in enumerate(train_loader, 0):\n",
        "        inputs, labels = data\n",
        "        inputs = inputs.to(DEVICE)\n",
        "        labels = labels.to(DEVICE)\n",
        "        # Zero the parameter gradients\n",
        "        optimizer.zero_grad()\n",
        "        # Forward + backward + optimize\n",
        "        outputs = model(inputs)\n",
        "        loss = criterion(outputs, labels)\n",
        "        loss.backward()\n",
        "        optimizer.step()\n",
        "        # loss\n",
        "        running_loss_train += loss.item()\n",
        "        # accuracy\n",
        "        _, predicted_train = torch.max(outputs.data, 1)\n",
        "        total_train += labels.size(0)\n",
        "        correct_train += (predicted_train == labels).sum().item()\n",
        "    accuracy = 100 * correct_train / total_train\n",
        "    loss_train.append(running_loss_train/len(train_loader))\n",
        "    accuracy_train.append(accuracy)\n",
        "    print(f\"Accuracy of the network on the train images after {epoch + 1} epochs is: {accuracy}\")\n",
        "\n",
        "    # Evaluate the model on validation\n",
        "    model.eval()\n",
        "    correct_val = 0\n",
        "    total_val = 0\n",
        "    running_loss_val = 0\n",
        "    with torch.no_grad():\n",
        "        for val_data in val_loader:\n",
        "            val_inputs, val_labels = val_data\n",
        "            val_inputs = val_inputs.to(DEVICE)\n",
        "            val_labels = val_labels.to(DEVICE)\n",
        "            # loss\n",
        "            val_outputs = model(val_inputs)\n",
        "            loss = criterion(val_outputs, val_labels)\n",
        "            running_loss_val += loss.item()\n",
        "            # accuracy\n",
        "            _, predicted_val = torch.max(val_outputs.data, 1)\n",
        "            total_val += val_labels.size(0)\n",
        "            correct_val += (predicted_val == val_labels).sum().item()\n",
        "    accuracy = 100 * correct_val / total_val\n",
        "    loss_val.append(running_loss_val/len(val_loader))        \n",
        "    accuracy_val.append(accuracy)\n",
        "    print(f\"Accuracy of the network on the val images after {epoch + 1} epochs is: {accuracy}\")"
      ]
    },
    {
      "cell_type": "code",
      "execution_count": null,
      "metadata": {
        "id": "dw9HwBbdXH0c"
      },
      "outputs": [],
      "source": [
        "#save the path\n",
        "model_save_name = 'resnet18.pt'\n",
        "path = f\"/content/drive/MyDrive/projectDataset/animal90/{model_save_name}\" \n",
        "torch.save(model.state_dict(), path)"
      ]
    },
    {
      "cell_type": "code",
      "execution_count": null,
      "metadata": {
        "id": "L-G4Z-eJ6S86",
        "colab": {
          "base_uri": "https://localhost:8080/",
          "height": 407
        },
        "outputId": "dd7782e3-d0b7-4d7c-9df1-78dbaf1c8bb8"
      },
      "outputs": [
        {
          "output_type": "execute_result",
          "data": {
            "text/plain": [
              "<matplotlib.legend.Legend at 0x7f891c5804c0>"
            ]
          },
          "metadata": {},
          "execution_count": 15
        },
        {
          "output_type": "display_data",
          "data": {
            "text/plain": [
              "<Figure size 1200x400 with 2 Axes>"
            ],
            "image/png": "[encoded data removed]"
          },
          "metadata": {}
        }
      ],
      "source": [
        "# plot train and val and test accuracy \n",
        "plt.figure(figsize=(15, 5), dpi=80)\n",
        "\n",
        "plt.subplot(1, 2, 1)\n",
        "plt.plot(loss_train, label=\"Train\")\n",
        "plt.plot(loss_val, color='red', label=\"Validation\")\n",
        "plt.title('Loss function for the training data')\n",
        "plt.xlabel('epoch')\n",
        "plt.ylabel('loss')\n",
        "plt.grid()\n",
        "plt.legend()\n",
        "\n",
        "plt.subplot(1, 2, 2)\n",
        "plt.plot(accuracy_train, label=\"Train\")\n",
        "plt.plot(accuracy_val, color='red', label=\"Validation\")\n",
        "plt.title('Accuracy for the training data')\n",
        "plt.xlabel('epoch')\n",
        "plt.ylabel('Accuracy')\n",
        "plt.grid()\n",
        "plt.legend()"
      ]
    },
    {
      "cell_type": "code",
      "source": [
        "# Evaluate the model on test\n",
        "model.eval()\n",
        "correct_test = 0\n",
        "total_test = 0\n",
        "running_loss_test = 0\n",
        "with torch.no_grad():\n",
        "    for data in test_loader:\n",
        "        inputs, labels = data\n",
        "        inputs = inputs.to(DEVICE)\n",
        "        labels = labels.to(DEVICE)\n",
        "        outputs = model(inputs)\n",
        "        loss = criterion(outputs, labels)\n",
        "        running_loss_test += loss.item()\n",
        "        _, predicted = torch.max(outputs.data, 1)\n",
        "        total_test += labels.size(0)\n",
        "        correct_test += (predicted == labels).sum().item()\n",
        "accuracy_test = 100 * correct_test / total_test\n",
        "loss_test = running_loss_test/len(test_loader)\n",
        "print(f\"Accuracy of the network on the test images is: {accuracy_test}\")\n",
        "print(f\"Loss of the network on the test images is: {loss_test}\")"
      ],
      "metadata": {
        "id": "hcgu33DE2j8m"
      },
      "execution_count": null,
      "outputs": []
    },
    {
      "cell_type": "code",
      "source": [
        "y_pred = []\n",
        "y_true = []\n",
        "for inputs, labels in test_loader:\n",
        "        inputs = inputs.to(DEVICE)\n",
        "        output = model(inputs) # Feed Network\n",
        "\n",
        "        output = (torch.max(torch.exp(output), 1)[1]).data.cpu().numpy()\n",
        "        y_pred.extend(output) # Save Prediction\n",
        "        \n",
        "        labels = labels.data.cpu().numpy()\n",
        "        y_true.extend(labels) # Save Truth"
      ],
      "metadata": {
        "id": "Fx9Yc5uq3tp3"
      },
      "execution_count": null,
      "outputs": []
    },
    {
      "cell_type": "code",
      "source": [
        "# save accuracy and loss\n",
        "import pickle\n",
        "with open(\"/content/drive/MyDrive/projectDataset/animal90/accuracy_resnet18.txt\", \"wb\") as fp:\n",
        "    pickle.dump(accuracy_train, fp)\n",
        "    pickle.dump(accuracy_val, fp)\n",
        "    pickle.dump(accuracy_test, fp)\n",
        "    pickle.dump(y_pred, fp)\n",
        "    pickle.dump(y_true, fp)\n",
        "\n",
        "with open(\"/content/drive/MyDrive/projectDataset/animal90/loss_resnet18.txt\", \"wb\") as fp:\n",
        "    pickle.dump(loss_train, fp)\n",
        "    pickle.dump(loss_val, fp)\n",
        "    pickle.dump(loss_test, fp)"
      ],
      "metadata": {
        "id": "Y35G5sOm3xPq"
      },
      "execution_count": null,
      "outputs": []
    },
    {
      "cell_type": "code",
      "source": [
        "recall = recall_score(y_true, y_pred, average='micro')\n",
        "precision = precision_score(y_true, y_pred, average='macro')\n",
        "f1 = f1_score(y_true, y_pred, average='macro')\n",
        "accuracy = accuracy_score(y_true, y_pred)\n",
        "print(f'Recall Score is: {recall}')\n",
        "print(f'Precision Score is : {precision}')\n",
        "print(f'F1 measure is: {f1}')\n",
        "print(f'Accuracy Score: {accuracy}')"
      ],
      "metadata": {
        "id": "ksqQ_ld94GIi"
      },
      "execution_count": null,
      "outputs": []
    },
    {
      "cell_type": "markdown",
      "metadata": {
        "id": "JyfrGoUl-Ncr"
      },
      "source": [
        "#ShuffleNetV2"
      ]
    },
    {
      "cell_type": "code",
      "execution_count": null,
      "metadata": {
        "id": "F-GV5Pqn-N3i"
      },
      "outputs": [],
      "source": [
        "# Define the ShuflleNetV2 model\n",
        "model = torchvision.models.shufflenet_v2_x1_0(pretrained=False)\n",
        "num_ftrs = model.fc.in_features\n",
        "model.fc = nn.Linear(num_ftrs, num_class)\n",
        "DEVICE = torch.device('cuda' if torch.cuda.is_available() else 'cpu')\n",
        "model.to(DEVICE)"
      ]
    },
    {
      "cell_type": "code",
      "execution_count": null,
      "metadata": {
        "id": "jw0CEl6k-RE4"
      },
      "outputs": [],
      "source": [
        "# Define the loss function and optimizer\n",
        "criterion = nn.CrossEntropyLoss()\n",
        "optimizer = optim.Adam(model.parameters(), lr=0.01)"
      ]
    },
    {
      "cell_type": "code",
      "execution_count": null,
      "metadata": {
        "id": "kM_QGnWe-Wo4"
      },
      "outputs": [],
      "source": [
        "# Train phase\n",
        "from tqdm import tqdm\n",
        "\n",
        "# Define the number of epochs\n",
        "num_epochs = 50\n",
        "loss_train = []\n",
        "loss_val = []\n",
        "loss_test = []\n",
        "\n",
        "accuracy_train = []\n",
        "accuracy_val = []\n",
        "accuracy_test = []\n",
        "\n",
        "for epoch in tqdm(range(num_epochs)):\n",
        "    model.train()\n",
        "    running_loss_train = 0.0\n",
        "    correct_train = 0\n",
        "    total_train = 0\n",
        "    running_loss_train = 0\n",
        "    for i, data in enumerate(train_loader, 0):\n",
        "        inputs, labels = data\n",
        "        inputs = inputs.to(DEVICE)\n",
        "        labels = labels.to(DEVICE)\n",
        "        # Zero the parameter gradients\n",
        "        optimizer.zero_grad()\n",
        "        # Forward + backward + optimize\n",
        "        outputs = model(inputs)\n",
        "        loss = criterion(outputs, labels)\n",
        "        loss.backward()\n",
        "        optimizer.step()\n",
        "        # loss\n",
        "        running_loss_train += loss.item()\n",
        "        # accuracy\n",
        "        _, predicted_train = torch.max(outputs.data, 1)\n",
        "        total_train += labels.size(0)\n",
        "        correct_train += (predicted_train == labels).sum().item()\n",
        "    accuracy = 100 * correct_train / total_train\n",
        "    loss_train.append(running_loss_train/len(train_loader))\n",
        "    accuracy_train.append(accuracy)\n",
        "    print(f\"Accuracy of the network on the train images after {epoch + 1} epochs is: {accuracy}\")\n",
        "\n",
        "    # Evaluate the model on validation\n",
        "    model.eval()\n",
        "    correct_val = 0\n",
        "    total_val = 0\n",
        "    running_loss_val = 0\n",
        "    with torch.no_grad():\n",
        "        for val_data in val_loader:\n",
        "            val_inputs, val_labels = val_data\n",
        "            val_inputs = val_inputs.to(DEVICE)\n",
        "            val_labels = val_labels.to(DEVICE)\n",
        "            # loss\n",
        "            val_outputs = model(val_inputs)\n",
        "            loss = criterion(val_outputs, val_labels)\n",
        "            running_loss_val += loss.item()\n",
        "            # accuracy\n",
        "            _, predicted_val = torch.max(val_outputs.data, 1)\n",
        "            total_val += val_labels.size(0)\n",
        "            correct_val += (predicted_val == val_labels).sum().item()\n",
        "    accuracy = 100 * correct_val / total_val\n",
        "    loss_val.append(running_loss_val/len(val_loader))        \n",
        "    accuracy_val.append(accuracy)\n",
        "    print(f\"Accuracy of the network on the val images after {epoch + 1} epochs is: {accuracy}\")"
      ]
    },
    {
      "cell_type": "code",
      "execution_count": null,
      "metadata": {
        "id": "gSsDDxWcYAlk"
      },
      "outputs": [],
      "source": [
        "#save the path\n",
        "model_save_name = 'shufflenet_v2_x1_0.pt'\n",
        "path = f\"/content/drive/MyDrive/projectDataset/animal90/{model_save_name}\" \n",
        "torch.save(model.state_dict(), path)"
      ]
    },
    {
      "cell_type": "code",
      "execution_count": null,
      "metadata": {
        "id": "dI1kQK08-alX",
        "colab": {
          "base_uri": "https://localhost:8080/",
          "height": 407
        },
        "outputId": "102a99ed-e737-4938-d5a8-2acfdf43bcb3"
      },
      "outputs": [
        {
          "output_type": "execute_result",
          "data": {
            "text/plain": [
              "<matplotlib.legend.Legend at 0x7f891407ad60>"
            ]
          },
          "metadata": {},
          "execution_count": 24
        },
        {
          "output_type": "display_data",
          "data": {
            "text/plain": [
              "<Figure size 1200x400 with 2 Axes>"
            ],
            "image/png": "[encoded data removed]"
          },
          "metadata": {}
        }
      ],
      "source": [
        "# plot train and val and test accuracy \n",
        "plt.figure(figsize=(15, 5), dpi=80)\n",
        "\n",
        "plt.subplot(1, 2, 1)\n",
        "plt.plot(loss_train, label=\"Train\")\n",
        "plt.plot(loss_val, color='red', label=\"Validation\")\n",
        "plt.title('Loss function for the training data')\n",
        "plt.xlabel('epoch')\n",
        "plt.ylabel('loss')\n",
        "plt.grid()\n",
        "plt.legend()\n",
        "\n",
        "plt.subplot(1, 2, 2)\n",
        "plt.plot(accuracy_train, label=\"Train\")\n",
        "plt.plot(accuracy_val, color='red', label=\"Validation\")\n",
        "plt.title('Accuracy for the training data')\n",
        "plt.xlabel('epoch')\n",
        "plt.ylabel('Accuracy')\n",
        "plt.grid()\n",
        "plt.legend()"
      ]
    },
    {
      "cell_type": "code",
      "source": [
        "# Evaluate the model on test\n",
        "model.eval()\n",
        "correct_test = 0\n",
        "total_test = 0\n",
        "running_loss_test = 0\n",
        "with torch.no_grad():\n",
        "    for data in test_loader:\n",
        "        inputs, labels = data\n",
        "        inputs = inputs.to(DEVICE)\n",
        "        labels = labels.to(DEVICE)\n",
        "        outputs = model(inputs)\n",
        "        loss = criterion(outputs, labels)\n",
        "        running_loss_test += loss.item()\n",
        "        _, predicted = torch.max(outputs.data, 1)\n",
        "        total_test += labels.size(0)\n",
        "        correct_test += (predicted == labels).sum().item()\n",
        "accuracy_test = 100 * correct_test / total_test\n",
        "loss_test = running_loss_test/len(test_loader)\n",
        "print(f\"Accuracy of the network on the test images is: {accuracy_test}\")\n",
        "print(f\"Loss of the network on the test images is: {loss_test}\")"
      ],
      "metadata": {
        "colab": {
          "base_uri": "https://localhost:8080/"
        },
        "id": "3ip8jMt74T4q",
        "outputId": "4b3dcaf5-71fb-4f0e-b774-2127a260a4b0"
      },
      "execution_count": null,
      "outputs": [
        {
          "output_type": "stream",
          "name": "stdout",
          "text": [
            "Accuracy of the network on the test images is: 25.68359375\n",
            "Loss of the network on the test images is: 7.656527519226074\n"
          ]
        }
      ]
    },
    {
      "cell_type": "code",
      "source": [
        "y_pred = []\n",
        "y_true = []\n",
        "for inputs, labels in test_loader:\n",
        "        inputs = inputs.to(DEVICE)\n",
        "        output = model(inputs) # Feed Network\n",
        "\n",
        "        output = (torch.max(torch.exp(output), 1)[1]).data.cpu().numpy()\n",
        "        y_pred.extend(output) # Save Prediction\n",
        "        \n",
        "        labels = labels.data.cpu().numpy()\n",
        "        y_true.extend(labels) # Save Truth"
      ],
      "metadata": {
        "id": "2K1q25II34AR"
      },
      "execution_count": null,
      "outputs": []
    },
    {
      "cell_type": "code",
      "execution_count": null,
      "metadata": {
        "id": "vwxcAXwce2UV"
      },
      "outputs": [],
      "source": [
        "# save accuracy and loss\n",
        "import pickle\n",
        "with open(\"/content/drive/MyDrive/projectDataset/animal90/accuracy_mobilenet_v2.txt\", \"wb\") as fp:\n",
        "    pickle.dump(accuracy_train, fp)\n",
        "    pickle.dump(accuracy_val, fp)\n",
        "    pickle.dump(accuracy_test, fp)\n",
        "    pickle.dump(y_pred, fp)\n",
        "    pickle.dump(y_true, fp)\n",
        "\n",
        "with open(\"/content/drive/MyDrive/projectDataset/animal90/loss_mobilenet_v2.txt\", \"wb\") as fp:\n",
        "    pickle.dump(loss_train, fp)\n",
        "    pickle.dump(loss_val, fp)\n",
        "    pickle.dump(loss_test, fp)"
      ]
    },
    {
      "cell_type": "code",
      "source": [
        "recall = recall_score(y_true, y_pred, average='micro')\n",
        "precision = precision_score(y_true, y_pred, average='macro')\n",
        "f1 = f1_score(y_true, y_pred, average='macro')\n",
        "accuracy = accuracy_score(y_true, y_pred)\n",
        "print(f'Recall Score is: {recall}')\n",
        "print(f'Precision Score is : {precision}')\n",
        "print(f'F1 measure is: {f1}')\n",
        "print(f'Accuracy Score: {accuracy}')"
      ],
      "metadata": {
        "id": "85pnJqXi3-ln"
      },
      "execution_count": null,
      "outputs": []
    },
    {
      "cell_type": "markdown",
      "metadata": {
        "id": "kTEi-DLhFP4I"
      },
      "source": [
        "#MobileNetV2"
      ]
    },
    {
      "cell_type": "code",
      "execution_count": null,
      "metadata": {
        "id": "V7-VAmPtFR3A"
      },
      "outputs": [],
      "source": [
        "# Define the ShuflleNetV2 model\n",
        "model = torchvision.models.mobilenet_v2(pretrained=False)\n",
        "model.classifier[1] = torch.nn.Linear(model.classifier[1].in_features, num_class)\n",
        "# num_ftrs = model.fc.in_features\n",
        "# model.fc = nn.Linear(num_ftrs, 2)\n",
        "DEVICE = torch.device('cuda' if torch.cuda.is_available() else 'cpu')\n",
        "model.to(DEVICE)"
      ]
    },
    {
      "cell_type": "code",
      "execution_count": null,
      "metadata": {
        "id": "BbKJdKVlFg4b"
      },
      "outputs": [],
      "source": [
        "# Define the loss function and optimizer\n",
        "criterion = nn.CrossEntropyLoss()\n",
        "optimizer = optim.Adam(model.parameters(), lr=0.01)"
      ]
    },
    {
      "cell_type": "code",
      "execution_count": null,
      "metadata": {
        "id": "1O3xyMdBFiqm"
      },
      "outputs": [],
      "source": [
        "# Train phase\n",
        "from tqdm import tqdm\n",
        "\n",
        "# Define the number of epochs\n",
        "num_epochs = 50\n",
        "loss_train = []\n",
        "loss_val = []\n",
        "loss_test = []\n",
        "\n",
        "accuracy_train = []\n",
        "accuracy_val = []\n",
        "accuracy_test = []\n",
        "\n",
        "for epoch in tqdm(range(num_epochs)):\n",
        "    model.train()\n",
        "    running_loss_train = 0.0\n",
        "    correct_train = 0\n",
        "    total_train = 0\n",
        "    running_loss_train = 0\n",
        "    for i, data in enumerate(train_loader, 0):\n",
        "        inputs, labels = data\n",
        "        inputs = inputs.to(DEVICE)\n",
        "        labels = labels.to(DEVICE)\n",
        "        # Zero the parameter gradients\n",
        "        optimizer.zero_grad()\n",
        "        # Forward + backward + optimize\n",
        "        outputs = model(inputs)\n",
        "        loss = criterion(outputs, labels)\n",
        "        loss.backward()\n",
        "        optimizer.step()\n",
        "        # loss\n",
        "        running_loss_train += loss.item()\n",
        "        # accuracy\n",
        "        _, predicted_train = torch.max(outputs.data, 1)\n",
        "        total_train += labels.size(0)\n",
        "        correct_train += (predicted_train == labels).sum().item()\n",
        "    accuracy = 100 * correct_train / total_train\n",
        "    loss_train.append(running_loss_train/len(train_loader))\n",
        "    accuracy_train.append(accuracy)\n",
        "    print(f\"Accuracy of the network on the train images after {epoch + 1} epochs is: {accuracy}\")\n",
        "\n",
        "    # Evaluate the model on validation\n",
        "    model.eval()\n",
        "    correct_val = 0\n",
        "    total_val = 0\n",
        "    running_loss_val = 0\n",
        "    with torch.no_grad():\n",
        "        for val_data in val_loader:\n",
        "            val_inputs, val_labels = val_data\n",
        "            val_inputs = val_inputs.to(DEVICE)\n",
        "            val_labels = val_labels.to(DEVICE)\n",
        "            # loss\n",
        "            val_outputs = model(val_inputs)\n",
        "            loss = criterion(val_outputs, val_labels)\n",
        "            running_loss_val += loss.item()\n",
        "            # accuracy\n",
        "            _, predicted_val = torch.max(val_outputs.data, 1)\n",
        "            total_val += val_labels.size(0)\n",
        "            correct_val += (predicted_val == val_labels).sum().item()\n",
        "    accuracy = 100 * correct_val / total_val\n",
        "    loss_val.append(running_loss_val/len(val_loader))        \n",
        "    accuracy_val.append(accuracy)\n",
        "    print(f\"Accuracy of the network on the val images after {epoch + 1} epochs is: {accuracy}\")\n",
        "\n",
        "#save the path\n",
        "model_save_name = 'mobilenet_v2.pt'\n",
        "path = f\"/content/drive/MyDrive/projectDataset/animal90/{model_save_name}\" \n",
        "torch.save(model.state_dict(), path)    "
      ]
    },
    {
      "cell_type": "code",
      "execution_count": null,
      "metadata": {
        "id": "ZOXXVd31YIVy"
      },
      "outputs": [],
      "source": [
        "#save the path\n",
        "model_save_name = 'mobilenet_v2.pt'\n",
        "path = f\"/content/drive/MyDrive/projectDataset/animal90/{model_save_name}\" \n",
        "torch.save(model.state_dict(), path)"
      ]
    },
    {
      "cell_type": "code",
      "execution_count": null,
      "metadata": {
        "id": "Vn6_C-7LFkep"
      },
      "outputs": [],
      "source": [
        "# plot train and val and test accuracy \n",
        "plt.figure(figsize=(15, 5), dpi=80)\n",
        "\n",
        "plt.subplot(1, 2, 1)\n",
        "plt.plot(loss_train, label=\"Train\")\n",
        "plt.plot(loss_val, color='red', label=\"Validation\")\n",
        "plt.title('Loss function for the training data')\n",
        "plt.xlabel('epoch')\n",
        "plt.ylabel('loss')\n",
        "plt.grid()\n",
        "plt.legend()\n",
        "\n",
        "plt.subplot(1, 2, 2)\n",
        "plt.plot(accuracy_train, label=\"Train\")\n",
        "plt.plot(accuracy_val, color='red', label=\"Validation\")\n",
        "plt.title('Accuracy for the training data')\n",
        "plt.xlabel('epoch')\n",
        "plt.ylabel('Accuracy')\n",
        "plt.grid()\n",
        "plt.legend()"
      ]
    },
    {
      "cell_type": "code",
      "source": [
        "# Evaluate the model on test\n",
        "model.eval()\n",
        "correct_test = 0\n",
        "total_test = 0\n",
        "running_loss_test = 0\n",
        "with torch.no_grad():\n",
        "    for data in test_loader:\n",
        "        inputs, labels = data\n",
        "        inputs = inputs.to(DEVICE)\n",
        "        labels = labels.to(DEVICE)\n",
        "        outputs = model(inputs)\n",
        "        loss = criterion(outputs, labels)\n",
        "        running_loss_test += loss.item()\n",
        "        _, predicted = torch.max(outputs.data, 1)\n",
        "        total_test += labels.size(0)\n",
        "        correct_test += (predicted == labels).sum().item()\n",
        "accuracy_test = 100 * correct_test / total_test\n",
        "loss_test = running_loss_test/len(test_loader)\n",
        "print(f\"Accuracy of the network on the test images is: {accuracy_test}\")\n",
        "print(f\"Loss of the network on the test images is: {loss_test}\")"
      ],
      "metadata": {
        "id": "hGbKb_OOQfmu"
      },
      "execution_count": null,
      "outputs": []
    },
    {
      "cell_type": "code",
      "source": [
        "y_pred = []\n",
        "y_true = []\n",
        "for inputs, labels in test_loader:\n",
        "        inputs = inputs.to(DEVICE)\n",
        "        output = model(inputs) # Feed Network\n",
        "\n",
        "        output = (torch.max(torch.exp(output), 1)[1]).data.cpu().numpy()\n",
        "        y_pred.extend(output) # Save Prediction\n",
        "        \n",
        "        labels = labels.data.cpu().numpy()\n",
        "        y_true.extend(labels) # Save Truth"
      ],
      "metadata": {
        "id": "nivBat5bMT_5"
      },
      "execution_count": null,
      "outputs": []
    },
    {
      "cell_type": "code",
      "execution_count": null,
      "metadata": {
        "id": "kCrt1xAremPa"
      },
      "outputs": [],
      "source": [
        "# save accuracy and loss\n",
        "import pickle\n",
        "with open(\"/content/drive/MyDrive/projectDataset/animal90/accuracy_mobilenet_v2.txt\", \"wb\") as fp:\n",
        "    pickle.dump(accuracy_train, fp)\n",
        "    pickle.dump(accuracy_val, fp)\n",
        "    pickle.dump(accuracy_test, fp)\n",
        "    pickle.dump(y_pred, fp)\n",
        "    pickle.dump(y_true, fp)\n",
        "\n",
        "with open(\"/content/drive/MyDrive/projectDataset/animal90/loss_mobilenet_v2.txt\", \"wb\") as fp:\n",
        "    pickle.dump(loss_train, fp)\n",
        "    pickle.dump(loss_val, fp)\n",
        "    pickle.dump(loss_test, fp)"
      ]
    },
    {
      "cell_type": "code",
      "source": [
        "recall = recall_score(y_true, y_pred, average='micro')\n",
        "precision = precision_score(y_true, y_pred, average='macro')\n",
        "f1 = f1_score(y_true, y_pred, average='macro')\n",
        "accuracy = accuracy_score(y_true, y_pred)\n",
        "print(f'Recall Score is: {recall}')\n",
        "print(f'Precision Score is : {precision}')\n",
        "print(f'F1 measure is: {f1}')\n",
        "print(f'Accuracy Score: {accuracy}')"
      ],
      "metadata": {
        "id": "kTF2Cr-BQ8lU"
      },
      "execution_count": null,
      "outputs": []
    },
    {
      "cell_type": "markdown",
      "source": [
        "# Transfer Learning - ShuffleNet"
      ],
      "metadata": {
        "id": "oS4nlgbRxflF"
      }
    },
    {
      "cell_type": "code",
      "source": [
        "# Define the ShuflleNetV2 model\n",
        "model = torchvision.models.shufflenet_v2_x1_0(weights='ShuffleNet_V2_X1_0_Weights.IMAGENET1K_V1')\n",
        "num_ftrs = model.fc.in_features\n",
        "model.fc = nn.Linear(num_ftrs, 90)\n",
        "DEVICE = torch.device('cuda' if torch.cuda.is_available() else 'cpu')\n",
        "model.to(DEVICE)"
      ],
      "metadata": {
        "id": "odCztsx3xieG"
      },
      "execution_count": null,
      "outputs": []
    },
    {
      "cell_type": "code",
      "source": [
        "# Define the loss function and optimizer\n",
        "criterion = nn.CrossEntropyLoss()\n",
        "optimizer = optim.Adam(model.parameters(), lr=0.01)"
      ],
      "metadata": {
        "id": "zVtmtmS0yIwh"
      },
      "execution_count": null,
      "outputs": []
    },
    {
      "cell_type": "code",
      "source": [
        "# Train phase\n",
        "from tqdm import tqdm\n",
        "\n",
        "# Define the number of epochs\n",
        "num_epochs = 50\n",
        "loss_train = []\n",
        "loss_val = []\n",
        "loss_test = []\n",
        "\n",
        "accuracy_train = []\n",
        "accuracy_val = []\n",
        "accuracy_test = []\n",
        "\n",
        "for epoch in tqdm(range(num_epochs)):\n",
        "    model.train()\n",
        "    running_loss_train = 0.0\n",
        "    correct_train = 0\n",
        "    total_train = 0\n",
        "    running_loss_train = 0\n",
        "    for i, data in enumerate(train_loader, 0):\n",
        "        inputs, labels = data\n",
        "        inputs = inputs.to(DEVICE)\n",
        "        labels = labels.to(DEVICE)\n",
        "        # Zero the parameter gradients\n",
        "        optimizer.zero_grad()\n",
        "        # Forward + backward + optimize\n",
        "        outputs = model(inputs)\n",
        "        loss = criterion(outputs, labels)\n",
        "        loss.backward()\n",
        "        optimizer.step()\n",
        "        # loss\n",
        "        running_loss_train += loss.item()\n",
        "        # accuracy\n",
        "        _, predicted_train = torch.max(outputs.data, 1)\n",
        "        total_train += labels.size(0)\n",
        "        correct_train += (predicted_train == labels).sum().item()\n",
        "    accuracy = 100 * correct_train / total_train\n",
        "    loss_train.append(running_loss_train/len(train_loader))\n",
        "    accuracy_train.append(accuracy)\n",
        "    print(f\"Accuracy of the network on the train images after {epoch + 1} epochs is: {accuracy}\")\n",
        "\n",
        "    # Evaluate the model on validation\n",
        "    model.eval()\n",
        "    correct_val = 0\n",
        "    total_val = 0\n",
        "    running_loss_val = 0\n",
        "    with torch.no_grad():\n",
        "        for val_data in val_loader:\n",
        "            val_inputs, val_labels = val_data\n",
        "            val_inputs = val_inputs.to(DEVICE)\n",
        "            val_labels = val_labels.to(DEVICE)\n",
        "            # loss\n",
        "            val_outputs = model(val_inputs)\n",
        "            loss = criterion(val_outputs, val_labels)\n",
        "            running_loss_val += loss.item()\n",
        "            # accuracy\n",
        "            _, predicted_val = torch.max(val_outputs.data, 1)\n",
        "            total_val += val_labels.size(0)\n",
        "            correct_val += (predicted_val == val_labels).sum().item()\n",
        "    accuracy = 100 * correct_val / total_val\n",
        "    loss_val.append(running_loss_val/len(val_loader))        \n",
        "    accuracy_val.append(accuracy)\n",
        "    print(f\"Accuracy of the network on the val images after {epoch + 1} epochs is: {accuracy}\")"
      ],
      "metadata": {
        "id": "bGzRtHpryLfF"
      },
      "execution_count": null,
      "outputs": []
    },
    {
      "cell_type": "code",
      "source": [
        "#save the path\n",
        "model_save_name = 'shufflenet_v2_x1_0_pretrained.pt'\n",
        "path = f\"/content/drive/MyDrive/projectDataset/animal90/{model_save_name}\" \n",
        "torch.save(model.state_dict(), path)"
      ],
      "metadata": {
        "id": "O9KTZnEq4o_P"
      },
      "execution_count": null,
      "outputs": []
    },
    {
      "cell_type": "code",
      "source": [
        "# plot train and val and test accuracy \n",
        "plt.figure(figsize=(15, 5), dpi=80)\n",
        "\n",
        "plt.subplot(1, 2, 1)\n",
        "plt.plot(loss_train, label=\"Train\")\n",
        "plt.plot(loss_val, color='red', label=\"Validation\")\n",
        "plt.title('Loss function for the training data')\n",
        "plt.xlabel('epoch')\n",
        "plt.ylabel('loss')\n",
        "plt.grid()\n",
        "plt.legend()\n",
        "\n",
        "plt.subplot(1, 2, 2)\n",
        "plt.plot(accuracy_train, label=\"Train\")\n",
        "plt.plot(accuracy_val, color='red', label=\"Validation\")\n",
        "plt.title('Accuracy for the training data')\n",
        "plt.xlabel('epoch')\n",
        "plt.ylabel('Accuracy')\n",
        "plt.grid()\n",
        "plt.legend()"
      ],
      "metadata": {
        "colab": {
          "base_uri": "https://localhost:8080/",
          "height": 407
        },
        "id": "T17plZMuN3jW",
        "outputId": "3fa2d1ef-a2fe-4ef1-dce0-6f16c366aca7"
      },
      "execution_count": null,
      "outputs": [
        {
          "output_type": "execute_result",
          "data": {
            "text/plain": [
              "<matplotlib.legend.Legend at 0x7fa5c80c0850>"
            ]
          },
          "metadata": {},
          "execution_count": 36
        },
        {
          "output_type": "display_data",
          "data": {
            "text/plain": [
              "<Figure size 1200x400 with 2 Axes>"
            ],
            "image/png": "[encoded data removed]"
          },
          "metadata": {}
        }
      ]
    },
    {
      "cell_type": "code",
      "source": [
        "# Evaluate the model on test\n",
        "model.eval()\n",
        "correct_test = 0\n",
        "total_test = 0\n",
        "running_loss_test = 0\n",
        "with torch.no_grad():\n",
        "    for data in test_loader:\n",
        "        inputs, labels = data\n",
        "        inputs = inputs.to(DEVICE)\n",
        "        labels = labels.to(DEVICE)\n",
        "        outputs = model(inputs)\n",
        "        loss = criterion(val_outputs, val_labels)\n",
        "        running_loss_test += loss.item()\n",
        "        _, predicted = torch.max(outputs.data, 1)\n",
        "        total_test += labels.size(0)\n",
        "        correct_test += (predicted == labels).sum().item()\n",
        "accuracy = 100 * correct_test / total_test\n",
        "loss_test = running_loss_test/len(test_loader)\n",
        "print(f\"Accuracy of the network on the test images is: {accuracy}\")\n",
        "print(f\"Loss of the network on the test images is: {loss_test}\")"
      ],
      "metadata": {
        "colab": {
          "base_uri": "https://localhost:8080/"
        },
        "id": "MvCFes4fyYQU",
        "outputId": "16a3d096-7096-4e2a-8284-df15017464e0"
      },
      "execution_count": null,
      "outputs": [
        {
          "output_type": "stream",
          "name": "stdout",
          "text": [
            "Accuracy of the network on the test images is: 66.89453125\n",
            "Loss of the network on the test images is: 2.102228879928589\n"
          ]
        }
      ]
    },
    {
      "cell_type": "code",
      "source": [
        "y_pred = []\n",
        "y_true = []\n",
        "for inputs, labels in test_loader:\n",
        "        input = input.to(DEVICE)\n",
        "        output = model(inputs) # Feed Network\n",
        "\n",
        "        output = (torch.max(torch.exp(output), 1)[1]).data.cpu().numpy()\n",
        "        y_pred.extend(output) # Save Prediction\n",
        "        \n",
        "        labels = labels.data.cpu().numpy()\n",
        "        y_true.extend(labels) # Save Truth"
      ],
      "metadata": {
        "id": "8-2mKoHy4Pec"
      },
      "execution_count": null,
      "outputs": []
    },
    {
      "cell_type": "code",
      "source": [
        "# save accuracy and loss\n",
        "import pickle\n",
        "with open(\"/content/drive/MyDrive/projectDataset/animal90/accuracy_mobilenet_v2.txt\", \"wb\") as fp:\n",
        "    pickle.dump(accuracy_train, fp)\n",
        "    pickle.dump(accuracy_val, fp)\n",
        "    pickle.dump(accuracy_test, fp)\n",
        "    pickle.dump(y_pred, fp)\n",
        "    pickle.dump(y_true, fp)\n",
        "\n",
        "with open(\"/content/drive/MyDrive/projectDataset/animal90/loss_mobilenet_v2.txt\", \"wb\") as fp:\n",
        "    pickle.dump(loss_train, fp)\n",
        "    pickle.dump(loss_val, fp)\n",
        "    pickle.dump(loss_test, fp)"
      ],
      "metadata": {
        "id": "Cyj1J8APU_bv"
      },
      "execution_count": null,
      "outputs": []
    },
    {
      "cell_type": "code",
      "source": [
        "recall = recall_score(y_true, y_pred, average='micro')\n",
        "precision = precision_score(y_true, y_pred, average='macro')\n",
        "f1 = f1_score(y_true, y_pred, average='macro')\n",
        "accuracy = accuracy_score(y_true, y_pred)\n",
        "print(f'Recall Score is: {recall}')\n",
        "print(f'Precision Score is : {precision}')\n",
        "print(f'F1 measure is: {f1}')\n",
        "print(f'Accuracy Score: {accuracy}')"
      ],
      "metadata": {
        "id": "jun59Q3p4Tvl"
      },
      "execution_count": null,
      "outputs": []
    },
    {
      "cell_type": "markdown",
      "source": [
        "# Transfer Learning - MobileNet"
      ],
      "metadata": {
        "id": "3bX0mmPHSES8"
      }
    },
    {
      "cell_type": "code",
      "source": [
        "# Define the ShuflleNetV2 model\n",
        "model = torchvision.models.mobilenet_v2(weights='MobileNet_V2_Weights.DEFAULT')\n",
        "model.classifier[1] = torch.nn.Linear(model.classifier[1].in_features, 90)\n",
        "# num_ftrs = model.fc.in_features\n",
        "# model.fc = nn.Linear(num_ftrs, 2)\n",
        "DEVICE = torch.device('cuda' if torch.cuda.is_available() else 'cpu')\n",
        "model.to(DEVICE)"
      ],
      "metadata": {
        "id": "Z2vCAOpgSKNw"
      },
      "execution_count": null,
      "outputs": []
    },
    {
      "cell_type": "code",
      "source": [
        "# Define the loss function and optimizer\n",
        "criterion = nn.CrossEntropyLoss()\n",
        "optimizer = optim.Adam(model.parameters(), lr=0.01)"
      ],
      "metadata": {
        "id": "1NVikumISrAn"
      },
      "execution_count": null,
      "outputs": []
    },
    {
      "cell_type": "code",
      "source": [
        "# Train phase\n",
        "from tqdm import tqdm\n",
        "\n",
        "# Define the number of epochs\n",
        "num_epochs = 50\n",
        "loss_train = []\n",
        "loss_val = []\n",
        "loss_test = []\n",
        "\n",
        "accuracy_train = []\n",
        "accuracy_val = []\n",
        "accuracy_test = []\n",
        "\n",
        "for epoch in tqdm(range(num_epochs)):\n",
        "    model.train()\n",
        "    running_loss_train = 0.0\n",
        "    correct_train = 0\n",
        "    total_train = 0\n",
        "    running_loss_train = 0\n",
        "    for i, data in enumerate(train_loader, 0):\n",
        "        inputs, labels = data\n",
        "        inputs = inputs.to(DEVICE)\n",
        "        labels = labels.to(DEVICE)\n",
        "        # Zero the parameter gradients\n",
        "        optimizer.zero_grad()\n",
        "        # Forward + backward + optimize\n",
        "        outputs = model(inputs)\n",
        "        loss = criterion(outputs, labels)\n",
        "        loss.backward()\n",
        "        optimizer.step()\n",
        "        # loss\n",
        "        running_loss_train += loss.item()\n",
        "        # accuracy\n",
        "        _, predicted_train = torch.max(outputs.data, 1)\n",
        "        total_train += labels.size(0)\n",
        "        correct_train += (predicted_train == labels).sum().item()\n",
        "    accuracy = 100 * correct_train / total_train\n",
        "    loss_train.append(running_loss_train/len(train_loader))\n",
        "    accuracy_train.append(accuracy)\n",
        "    print(f\"Accuracy of the network on the train images after {epoch + 1} epochs is: {accuracy}\")\n",
        "\n",
        "    # Evaluate the model on validation\n",
        "    model.eval()\n",
        "    correct_val = 0\n",
        "    total_val = 0\n",
        "    running_loss_val = 0\n",
        "    with torch.no_grad():\n",
        "        for val_data in val_loader:\n",
        "            val_inputs, val_labels = val_data\n",
        "            val_inputs = val_inputs.to(DEVICE)\n",
        "            val_labels = val_labels.to(DEVICE)\n",
        "            # loss\n",
        "            val_outputs = model(val_inputs)\n",
        "            loss = criterion(val_outputs, val_labels)\n",
        "            running_loss_val += loss.item()\n",
        "            # accuracy\n",
        "            _, predicted_val = torch.max(val_outputs.data, 1)\n",
        "            total_val += val_labels.size(0)\n",
        "            correct_val += (predicted_val == val_labels).sum().item()\n",
        "    accuracy = 100 * correct_val / total_val\n",
        "    loss_val.append(running_loss_val/len(val_loader))        \n",
        "    accuracy_val.append(accuracy)\n",
        "    print(f\"Accuracy of the network on the val images after {epoch + 1} epochs is: {accuracy}\")"
      ],
      "metadata": {
        "id": "V31_haH4Sy_n"
      },
      "execution_count": null,
      "outputs": []
    },
    {
      "cell_type": "code",
      "source": [
        "#save the path\n",
        "model_save_name = 'mobilenet_v2_pretrained.pt'\n",
        "path = f\"/content/drive/MyDrive/projectDataset/animal90/{model_save_name}\" \n",
        "torch.save(model.state_dict(), path)"
      ],
      "metadata": {
        "id": "79cVl_1EVVF8"
      },
      "execution_count": null,
      "outputs": []
    },
    {
      "cell_type": "code",
      "source": [
        "# plot train and val and test accuracy \n",
        "plt.figure(figsize=(15, 5), dpi=80)\n",
        "\n",
        "plt.subplot(1, 2, 1)\n",
        "plt.plot(loss_train, label=\"Train\")\n",
        "plt.plot(loss_val, color='red', label=\"Validation\")\n",
        "plt.title('Loss function for the training data')\n",
        "plt.xlabel('epoch')\n",
        "plt.ylabel('loss')\n",
        "plt.grid()\n",
        "plt.legend()\n",
        "\n",
        "plt.subplot(1, 2, 2)\n",
        "plt.plot(accuracy_train, label=\"Train\")\n",
        "plt.plot(accuracy_val, color='red', label=\"Validation\")\n",
        "plt.title('Accuracy for the training data')\n",
        "plt.xlabel('epoch')\n",
        "plt.ylabel('Accuracy')\n",
        "plt.grid()\n",
        "plt.legend()"
      ],
      "metadata": {
        "id": "LFodd8B7TEKu"
      },
      "execution_count": null,
      "outputs": []
    },
    {
      "cell_type": "code",
      "source": [
        "# Evaluate the model on test\n",
        "model.eval()\n",
        "correct_test = 0\n",
        "total_test = 0\n",
        "running_loss_test = 0\n",
        "with torch.no_grad():\n",
        "    for data in test_loader:\n",
        "        inputs, labels = data\n",
        "        inputs = inputs.to(DEVICE)\n",
        "        labels = labels.to(DEVICE)\n",
        "        outputs = model(inputs)\n",
        "        loss = criterion(val_outputs, val_labels)\n",
        "        running_loss_test += loss.item()\n",
        "        _, predicted = torch.max(outputs.data, 1)\n",
        "        total_test += labels.size(0)\n",
        "        correct_test += (predicted == labels).sum().item()\n",
        "accuracy = 100 * correct_test / total_test\n",
        "loss_test = running_loss_test/len(test_loader)\n",
        "print(f\"Accuracy of the network on the test images is: {accuracy}\")\n",
        "print(f\"Loss of the network on the test images is: {loss_test}\")"
      ],
      "metadata": {
        "id": "pJsYT50HTHE0"
      },
      "execution_count": null,
      "outputs": []
    },
    {
      "cell_type": "code",
      "source": [
        "y_pred = []\n",
        "y_true = []\n",
        "for inputs, labels in test_loader:\n",
        "        input = input.to(DEVICE)\n",
        "        output = model(inputs) # Feed Network\n",
        "\n",
        "        output = (torch.max(torch.exp(output), 1)[1]).data.cpu().numpy()\n",
        "        y_pred.extend(output) # Save Prediction\n",
        "        \n",
        "        labels = labels.data.cpu().numpy()\n",
        "        y_true.extend(labels) # Save Truth"
      ],
      "metadata": {
        "id": "jeT9nhx54YsJ"
      },
      "execution_count": null,
      "outputs": []
    },
    {
      "cell_type": "code",
      "source": [
        "# save accuracy and loss\n",
        "import pickle\n",
        "with open(\"/content/drive/MyDrive/projectDataset/animal90/accuracy_mobilenet_v2.txt\", \"wb\") as fp:\n",
        "    pickle.dump(accuracy_train, fp)\n",
        "    pickle.dump(accuracy_val, fp)\n",
        "    pickle.dump(accuracy_test, fp)\n",
        "    pickle.dump(y_pred, fp)\n",
        "    pickle.dump(y_true, fp)\n",
        "\n",
        "with open(\"/content/drive/MyDrive/projectDataset/animal90/loss_mobilenet_v2.txt\", \"wb\") as fp:\n",
        "    pickle.dump(loss_train, fp)\n",
        "    pickle.dump(loss_val, fp)\n",
        "    pickle.dump(loss_test, fp)"
      ],
      "metadata": {
        "id": "9irpV2PdVv0G"
      },
      "execution_count": null,
      "outputs": []
    },
    {
      "cell_type": "code",
      "source": [
        "recall = recall_score(y_true, y_pred, average='micro')\n",
        "precision = precision_score(y_true, y_pred, average='macro')\n",
        "f1 = f1_score(y_true, y_pred, average='macro')\n",
        "accuracy = accuracy_score(y_true, y_pred)\n",
        "print(f'Recall Score is: {recall}')\n",
        "print(f'Precision Score is : {precision}')\n",
        "print(f'F1 measure is: {f1}')\n",
        "print(f'Accuracy Score: {accuracy}')"
      ],
      "metadata": {
        "id": "ruJM94ES4cSZ"
      },
      "execution_count": null,
      "outputs": []
    }
  ],
  "metadata": {
    "colab": {
      "collapsed_sections": [
        "yBIZlHNr7mMc",
        "sjzId0-j6Lax",
        "JyfrGoUl-Ncr",
        "kTEi-DLhFP4I",
        "oS4nlgbRxflF",
        "3bX0mmPHSES8"
      ],
      "provenance": []
    },
    "gpuClass": "standard",
    "kernelspec": {
      "display_name": "Python 3",
      "name": "python3"
    },
    "language_info": {
      "name": "python"
    },
    "accelerator": "GPU"
  },
  "nbformat": 4,
  "nbformat_minor": 0
}